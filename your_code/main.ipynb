{
 "cells": [
  {
   "cell_type": "markdown",
   "metadata": {},
   "source": [
    "# Advanced Querying Mongo"
   ]
  },
  {
   "cell_type": "markdown",
   "metadata": {},
   "source": [
    "Importing libraries and setting up connection"
   ]
  },
  {
   "cell_type": "code",
   "execution_count": 22,
   "metadata": {},
   "outputs": [],
   "source": [
    "from pymongo import MongoClient\n",
    "import pymongo ## lo voy a improtar todo again sorry\n",
    "import pandas as pd\n",
    "import json\n",
    "pd.options.display.max_columns = None"
   ]
  },
  {
   "cell_type": "code",
   "execution_count": 65,
   "metadata": {},
   "outputs": [
    {
     "data": {
      "text/html": [
       "<div>\n",
       "<style scoped>\n",
       "    .dataframe tbody tr th:only-of-type {\n",
       "        vertical-align: middle;\n",
       "    }\n",
       "\n",
       "    .dataframe tbody tr th {\n",
       "        vertical-align: top;\n",
       "    }\n",
       "\n",
       "    .dataframe thead th {\n",
       "        text-align: right;\n",
       "    }\n",
       "</style>\n",
       "<table border=\"1\" class=\"dataframe\">\n",
       "  <thead>\n",
       "    <tr style=\"text-align: right;\">\n",
       "      <th></th>\n",
       "      <th>_id</th>\n",
       "      <th>name</th>\n",
       "      <th>permalink</th>\n",
       "      <th>crunchbase_url</th>\n",
       "      <th>homepage_url</th>\n",
       "      <th>blog_url</th>\n",
       "      <th>blog_feed_url</th>\n",
       "      <th>twitter_username</th>\n",
       "      <th>category_code</th>\n",
       "      <th>number_of_employees</th>\n",
       "      <th>founded_year</th>\n",
       "      <th>founded_month</th>\n",
       "      <th>founded_day</th>\n",
       "      <th>deadpooled_year</th>\n",
       "      <th>tag_list</th>\n",
       "      <th>alias_list</th>\n",
       "      <th>email_address</th>\n",
       "      <th>phone_number</th>\n",
       "      <th>description</th>\n",
       "      <th>created_at</th>\n",
       "      <th>updated_at</th>\n",
       "      <th>overview</th>\n",
       "      <th>image</th>\n",
       "      <th>products</th>\n",
       "      <th>relationships</th>\n",
       "      <th>competitions</th>\n",
       "      <th>providerships</th>\n",
       "      <th>total_money_raised</th>\n",
       "      <th>funding_rounds</th>\n",
       "      <th>investments</th>\n",
       "      <th>acquisition</th>\n",
       "      <th>acquisitions</th>\n",
       "      <th>offices</th>\n",
       "      <th>milestones</th>\n",
       "      <th>video_embeds</th>\n",
       "      <th>screenshots</th>\n",
       "      <th>external_links</th>\n",
       "      <th>partners</th>\n",
       "      <th>deadpooled_month</th>\n",
       "      <th>deadpooled_day</th>\n",
       "      <th>deadpooled_url</th>\n",
       "      <th>ipo</th>\n",
       "    </tr>\n",
       "  </thead>\n",
       "  <tbody>\n",
       "    <tr>\n",
       "      <th>0</th>\n",
       "      <td>{'$oid': '52cdef7c4bab8bd675297d8a'}</td>\n",
       "      <td>Wetpaint</td>\n",
       "      <td>abc2</td>\n",
       "      <td>http://www.crunchbase.com/company/wetpaint</td>\n",
       "      <td>http://wetpaint-inc.com</td>\n",
       "      <td>http://digitalquarters.net/</td>\n",
       "      <td>http://digitalquarters.net/feed/</td>\n",
       "      <td>BachelrWetpaint</td>\n",
       "      <td>web</td>\n",
       "      <td>47.0</td>\n",
       "      <td>2005.0</td>\n",
       "      <td>10.0</td>\n",
       "      <td>17.0</td>\n",
       "      <td>1.0</td>\n",
       "      <td>wiki, seattle, elowitz, media-industry, media-...</td>\n",
       "      <td></td>\n",
       "      <td>info@wetpaint.com</td>\n",
       "      <td>206.859.6300</td>\n",
       "      <td>Technology Platform Company</td>\n",
       "      <td>{'$date': 1180075887000}</td>\n",
       "      <td>2013-12-08 07:15:44+00:00</td>\n",
       "      <td>&lt;p&gt;Wetpaint is a technology platform company t...</td>\n",
       "      <td>{'available_sizes': [[[150, 75], 'assets/image...</td>\n",
       "      <td>[{'name': 'Wikison Wetpaint', 'permalink': 'we...</td>\n",
       "      <td>[{'is_past': False, 'title': 'Co-Founder and V...</td>\n",
       "      <td>[{'competitor': {'name': 'Wikia', 'permalink':...</td>\n",
       "      <td>[]</td>\n",
       "      <td>$39.8M</td>\n",
       "      <td>[{'id': 888, 'round_code': 'a', 'source_url': ...</td>\n",
       "      <td>[]</td>\n",
       "      <td>{'price_amount': 30000000, 'price_currency_cod...</td>\n",
       "      <td>[]</td>\n",
       "      <td>[{'description': '', 'address1': '710 - 2nd Av...</td>\n",
       "      <td>[{'id': 5869, 'description': 'Wetpaint named i...</td>\n",
       "      <td>[]</td>\n",
       "      <td>[{'available_sizes': [[[150, 86], 'assets/imag...</td>\n",
       "      <td>[{'external_url': 'http://www.geekwire.com/201...</td>\n",
       "      <td>[]</td>\n",
       "      <td>NaN</td>\n",
       "      <td>NaN</td>\n",
       "      <td>NaN</td>\n",
       "      <td>NaN</td>\n",
       "    </tr>\n",
       "  </tbody>\n",
       "</table>\n",
       "</div>"
      ],
      "text/plain": [
       "                                    _id      name permalink  \\\n",
       "0  {'$oid': '52cdef7c4bab8bd675297d8a'}  Wetpaint      abc2   \n",
       "\n",
       "                               crunchbase_url             homepage_url  \\\n",
       "0  http://www.crunchbase.com/company/wetpaint  http://wetpaint-inc.com   \n",
       "\n",
       "                      blog_url                     blog_feed_url  \\\n",
       "0  http://digitalquarters.net/  http://digitalquarters.net/feed/   \n",
       "\n",
       "  twitter_username category_code  number_of_employees  founded_year  \\\n",
       "0  BachelrWetpaint           web                 47.0        2005.0   \n",
       "\n",
       "   founded_month  founded_day  deadpooled_year  \\\n",
       "0           10.0         17.0              1.0   \n",
       "\n",
       "                                            tag_list alias_list  \\\n",
       "0  wiki, seattle, elowitz, media-industry, media-...              \n",
       "\n",
       "       email_address  phone_number                  description  \\\n",
       "0  info@wetpaint.com  206.859.6300  Technology Platform Company   \n",
       "\n",
       "                 created_at                updated_at  \\\n",
       "0  {'$date': 1180075887000} 2013-12-08 07:15:44+00:00   \n",
       "\n",
       "                                            overview  \\\n",
       "0  <p>Wetpaint is a technology platform company t...   \n",
       "\n",
       "                                               image  \\\n",
       "0  {'available_sizes': [[[150, 75], 'assets/image...   \n",
       "\n",
       "                                            products  \\\n",
       "0  [{'name': 'Wikison Wetpaint', 'permalink': 'we...   \n",
       "\n",
       "                                       relationships  \\\n",
       "0  [{'is_past': False, 'title': 'Co-Founder and V...   \n",
       "\n",
       "                                        competitions providerships  \\\n",
       "0  [{'competitor': {'name': 'Wikia', 'permalink':...            []   \n",
       "\n",
       "  total_money_raised                                     funding_rounds  \\\n",
       "0             $39.8M  [{'id': 888, 'round_code': 'a', 'source_url': ...   \n",
       "\n",
       "  investments                                        acquisition acquisitions  \\\n",
       "0          []  {'price_amount': 30000000, 'price_currency_cod...           []   \n",
       "\n",
       "                                             offices  \\\n",
       "0  [{'description': '', 'address1': '710 - 2nd Av...   \n",
       "\n",
       "                                          milestones video_embeds  \\\n",
       "0  [{'id': 5869, 'description': 'Wetpaint named i...           []   \n",
       "\n",
       "                                         screenshots  \\\n",
       "0  [{'available_sizes': [[[150, 86], 'assets/imag...   \n",
       "\n",
       "                                      external_links partners  \\\n",
       "0  [{'external_url': 'http://www.geekwire.com/201...       []   \n",
       "\n",
       "   deadpooled_month  deadpooled_day deadpooled_url  ipo  \n",
       "0               NaN             NaN            NaN  NaN  "
      ]
     },
     "execution_count": 65,
     "metadata": {},
     "output_type": "execute_result"
    }
   ],
   "source": [
    "## me traigo el dataframe\n",
    "df = pd.read_json(\"../companies.json\", lines=True)\n",
    "df.head(1)"
   ]
  },
  {
   "cell_type": "code",
   "execution_count": 3,
   "metadata": {},
   "outputs": [
    {
     "data": {
      "text/plain": [
       "MongoClient(host=['localhost:27017'], document_class=dict, tz_aware=False, connect=True)"
      ]
     },
     "execution_count": 3,
     "metadata": {},
     "output_type": "execute_result"
    }
   ],
   "source": [
    "## genero el cliente\n",
    "cliente = pymongo.MongoClient()\n",
    "cliente"
   ]
  },
  {
   "cell_type": "code",
   "execution_count": 72,
   "metadata": {},
   "outputs": [],
   "source": [
    "## me creo una base de datos nueva\n",
    "db = cliente[\"companies\"]"
   ]
  },
  {
   "cell_type": "code",
   "execution_count": 73,
   "metadata": {},
   "outputs": [],
   "source": [
    "## creo una colección dentro de mi bbdd\n",
    "\n",
    "coleccion = db.detalles"
   ]
  },
  {
   "cell_type": "code",
   "execution_count": 54,
   "metadata": {},
   "outputs": [
    {
     "data": {
      "text/plain": [
       "list"
      ]
     },
     "execution_count": 54,
     "metadata": {},
     "output_type": "execute_result"
    }
   ],
   "source": [
    "type(df.to_dict('records'))"
   ]
  },
  {
   "cell_type": "code",
   "execution_count": 69,
   "metadata": {},
   "outputs": [],
   "source": [
    "## insertar el df que acabo de cargar a mi bbdd -- > me da error, así que lo voy a subir a la bbdd a mano\n",
    "df_toinsert = df.to_dict('records')\n",
    "#coleccion.insert_many(df_toinsert)"
   ]
  },
  {
   "cell_type": "code",
   "execution_count": 70,
   "metadata": {},
   "outputs": [
    {
     "data": {
      "text/plain": [
       "['admin',\n",
       " 'alojamientos_data',\n",
       " 'alojamientos_data2',\n",
       " 'companies',\n",
       " 'config',\n",
       " 'local']"
      ]
     },
     "execution_count": 70,
     "metadata": {},
     "output_type": "execute_result"
    }
   ],
   "source": [
    "## checkeo y el import desde mongo se ha hecho con éxito\n",
    "cliente.list_database_names()"
   ]
  },
  {
   "cell_type": "markdown",
   "metadata": {},
   "source": [
    "### 1. All the companies whose name match 'Babelgum'. Retrieve only their `name` field."
   ]
  },
  {
   "cell_type": "code",
   "execution_count": 79,
   "metadata": {},
   "outputs": [
    {
     "data": {
      "text/plain": [
       "<pymongo.cursor.Cursor at 0x1bf851fb7c0>"
      ]
     },
     "execution_count": 79,
     "metadata": {},
     "output_type": "execute_result"
    }
   ],
   "source": [
    "db.coleccion.find(\n",
    "  {}\n",
    ") ## así es como tengo que llamar a mi bbdd"
   ]
  },
  {
   "cell_type": "code",
   "execution_count": 89,
   "metadata": {},
   "outputs": [
    {
     "data": {
      "text/html": [
       "<div>\n",
       "<style scoped>\n",
       "    .dataframe tbody tr th:only-of-type {\n",
       "        vertical-align: middle;\n",
       "    }\n",
       "\n",
       "    .dataframe tbody tr th {\n",
       "        vertical-align: top;\n",
       "    }\n",
       "\n",
       "    .dataframe thead th {\n",
       "        text-align: right;\n",
       "    }\n",
       "</style>\n",
       "<table border=\"1\" class=\"dataframe\">\n",
       "  <thead>\n",
       "    <tr style=\"text-align: right;\">\n",
       "      <th></th>\n",
       "      <th>_id</th>\n",
       "      <th>name</th>\n",
       "    </tr>\n",
       "  </thead>\n",
       "  <tbody>\n",
       "    <tr>\n",
       "      <th>0</th>\n",
       "      <td>52cdef7c4bab8bd675297da0</td>\n",
       "      <td>Babelgum</td>\n",
       "    </tr>\n",
       "  </tbody>\n",
       "</table>\n",
       "</div>"
      ],
      "text/plain": [
       "                        _id      name\n",
       "0  52cdef7c4bab8bd675297da0  Babelgum"
      ]
     },
     "execution_count": 89,
     "metadata": {},
     "output_type": "execute_result"
    }
   ],
   "source": [
    "# Your Code\n",
    "pd.DataFrame(db.coleccion.find({\"name\":\"Babelgum\"}, {'name':1})) ## uso proyecciones para que me dé solo el nombre de la empresa"
   ]
  },
  {
   "cell_type": "markdown",
   "metadata": {},
   "source": [
    "### 2. All the companies that have more than 5000 employees. Limit the search to 20 companies and sort them by **number of employees**."
   ]
  },
  {
   "cell_type": "code",
   "execution_count": 90,
   "metadata": {},
   "outputs": [
    {
     "name": "stdout",
     "output_type": "stream",
     "text": [
      "(20, 42)\n"
     ]
    },
    {
     "data": {
      "text/html": [
       "<div>\n",
       "<style scoped>\n",
       "    .dataframe tbody tr th:only-of-type {\n",
       "        vertical-align: middle;\n",
       "    }\n",
       "\n",
       "    .dataframe tbody tr th {\n",
       "        vertical-align: top;\n",
       "    }\n",
       "\n",
       "    .dataframe thead th {\n",
       "        text-align: right;\n",
       "    }\n",
       "</style>\n",
       "<table border=\"1\" class=\"dataframe\">\n",
       "  <thead>\n",
       "    <tr style=\"text-align: right;\">\n",
       "      <th></th>\n",
       "      <th>_id</th>\n",
       "      <th>name</th>\n",
       "      <th>permalink</th>\n",
       "      <th>crunchbase_url</th>\n",
       "      <th>homepage_url</th>\n",
       "      <th>blog_url</th>\n",
       "      <th>blog_feed_url</th>\n",
       "      <th>twitter_username</th>\n",
       "      <th>category_code</th>\n",
       "      <th>number_of_employees</th>\n",
       "      <th>founded_year</th>\n",
       "      <th>founded_month</th>\n",
       "      <th>founded_day</th>\n",
       "      <th>deadpooled_year</th>\n",
       "      <th>deadpooled_month</th>\n",
       "      <th>deadpooled_day</th>\n",
       "      <th>deadpooled_url</th>\n",
       "      <th>tag_list</th>\n",
       "      <th>alias_list</th>\n",
       "      <th>email_address</th>\n",
       "      <th>phone_number</th>\n",
       "      <th>description</th>\n",
       "      <th>created_at</th>\n",
       "      <th>updated_at</th>\n",
       "      <th>overview</th>\n",
       "      <th>image</th>\n",
       "      <th>products</th>\n",
       "      <th>relationships</th>\n",
       "      <th>competitions</th>\n",
       "      <th>providerships</th>\n",
       "      <th>total_money_raised</th>\n",
       "      <th>funding_rounds</th>\n",
       "      <th>investments</th>\n",
       "      <th>acquisition</th>\n",
       "      <th>acquisitions</th>\n",
       "      <th>offices</th>\n",
       "      <th>milestones</th>\n",
       "      <th>ipo</th>\n",
       "      <th>video_embeds</th>\n",
       "      <th>screenshots</th>\n",
       "      <th>external_links</th>\n",
       "      <th>partners</th>\n",
       "    </tr>\n",
       "  </thead>\n",
       "  <tbody>\n",
       "    <tr>\n",
       "      <th>0</th>\n",
       "      <td>52cdef7d4bab8bd67529941a</td>\n",
       "      <td>Siemens</td>\n",
       "      <td>siemens</td>\n",
       "      <td>http://www.crunchbase.com/company/siemens</td>\n",
       "      <td>http://www.siemens.com</td>\n",
       "      <td></td>\n",
       "      <td></td>\n",
       "      <td>Siemens</td>\n",
       "      <td>hardware</td>\n",
       "      <td>405000</td>\n",
       "      <td>1847.0</td>\n",
       "      <td>NaN</td>\n",
       "      <td>NaN</td>\n",
       "      <td>None</td>\n",
       "      <td>None</td>\n",
       "      <td>None</td>\n",
       "      <td>None</td>\n",
       "      <td>automation, building-technologies, drive-techn...</td>\n",
       "      <td></td>\n",
       "      <td>contact@siemens.com</td>\n",
       "      <td>49 89 636 34134</td>\n",
       "      <td>Electronics and Electrical Engineering</td>\n",
       "      <td>Thu Jul 31 09:29:43 UTC 2008</td>\n",
       "      <td>Thu Nov 28 20:32:55 UTC 2013</td>\n",
       "      <td>&lt;p&gt;Siemens AG, an electronics and electrical e...</td>\n",
       "      <td>{'available_sizes': [[[150, 34], 'assets/image...</td>\n",
       "      <td>[]</td>\n",
       "      <td>[{'is_past': False, 'title': 'Chairman, Superv...</td>\n",
       "      <td>[]</td>\n",
       "      <td>[{'title': 'Application Development', 'is_past...</td>\n",
       "      <td>$8.9M</td>\n",
       "      <td>[{'id': 17062, 'round_code': 'grant', 'source_...</td>\n",
       "      <td>[]</td>\n",
       "      <td>None</td>\n",
       "      <td>[{'price_amount': 418000000, 'price_currency_c...</td>\n",
       "      <td>[{'description': '', 'address1': 'Wittelsbache...</td>\n",
       "      <td>[{'id': 35852, 'description': 'Siemens Receive...</td>\n",
       "      <td>{'valuation_amount': None, 'valuation_currency...</td>\n",
       "      <td>[{'embed_code': '&lt;iframe width=\"420\" height=\"3...</td>\n",
       "      <td>[{'available_sizes': [[[150, 92], 'assets/imag...</td>\n",
       "      <td>[]</td>\n",
       "      <td>[]</td>\n",
       "    </tr>\n",
       "    <tr>\n",
       "      <th>1</th>\n",
       "      <td>52cdef7c4bab8bd67529856a</td>\n",
       "      <td>IBM</td>\n",
       "      <td>ibm</td>\n",
       "      <td>http://www.crunchbase.com/company/ibm</td>\n",
       "      <td>http://www.ibm.com</td>\n",
       "      <td></td>\n",
       "      <td></td>\n",
       "      <td>IBM</td>\n",
       "      <td>software</td>\n",
       "      <td>388000</td>\n",
       "      <td>1896.0</td>\n",
       "      <td>NaN</td>\n",
       "      <td>NaN</td>\n",
       "      <td>None</td>\n",
       "      <td>None</td>\n",
       "      <td>None</td>\n",
       "      <td></td>\n",
       "      <td></td>\n",
       "      <td></td>\n",
       "      <td>ews@us.ibm.com</td>\n",
       "      <td>914-499-1900</td>\n",
       "      <td></td>\n",
       "      <td>Fri Mar 14 22:55:52 UTC 2008</td>\n",
       "      <td>Sat Jan 04 02:56:24 UTC 2014</td>\n",
       "      <td>&lt;p&gt;IBM, acronym for International Business Mac...</td>\n",
       "      <td>{'available_sizes': [[[150, 60], 'assets/image...</td>\n",
       "      <td>[{'name': 'Lotus Notes', 'permalink': 'lotus-n...</td>\n",
       "      <td>[{'is_past': False, 'title': 'Chairman of the ...</td>\n",
       "      <td>[{'competitor': {'name': 'BEA Systems', 'perma...</td>\n",
       "      <td>[{'title': '', 'is_past': False, 'provider': {...</td>\n",
       "      <td>$0</td>\n",
       "      <td>[]</td>\n",
       "      <td>[{'funding_round': {'round_code': 'c', 'source...</td>\n",
       "      <td>None</td>\n",
       "      <td>[{'price_amount': None, 'price_currency_code':...</td>\n",
       "      <td>[{'description': 'Corporate Headquarters', 'ad...</td>\n",
       "      <td>[{'id': 10471, 'description': 'IBM Completes A...</td>\n",
       "      <td>{'valuation_amount': None, 'valuation_currency...</td>\n",
       "      <td>[{'embed_code': '&lt;embed src=\"http://blip.tv/pl...</td>\n",
       "      <td>[{'available_sizes': [[[150, 93], 'assets/imag...</td>\n",
       "      <td>[{'external_url': 'http://mashpedia.com/IBM', ...</td>\n",
       "      <td>[]</td>\n",
       "    </tr>\n",
       "  </tbody>\n",
       "</table>\n",
       "</div>"
      ],
      "text/plain": [
       "                        _id     name permalink  \\\n",
       "0  52cdef7d4bab8bd67529941a  Siemens   siemens   \n",
       "1  52cdef7c4bab8bd67529856a      IBM       ibm   \n",
       "\n",
       "                              crunchbase_url            homepage_url blog_url  \\\n",
       "0  http://www.crunchbase.com/company/siemens  http://www.siemens.com            \n",
       "1      http://www.crunchbase.com/company/ibm      http://www.ibm.com            \n",
       "\n",
       "  blog_feed_url twitter_username category_code  number_of_employees  \\\n",
       "0                        Siemens      hardware               405000   \n",
       "1                            IBM      software               388000   \n",
       "\n",
       "   founded_year  founded_month  founded_day deadpooled_year deadpooled_month  \\\n",
       "0        1847.0            NaN          NaN            None             None   \n",
       "1        1896.0            NaN          NaN            None             None   \n",
       "\n",
       "  deadpooled_day deadpooled_url  \\\n",
       "0           None           None   \n",
       "1           None                  \n",
       "\n",
       "                                            tag_list alias_list  \\\n",
       "0  automation, building-technologies, drive-techn...              \n",
       "1                                                                 \n",
       "\n",
       "         email_address     phone_number  \\\n",
       "0  contact@siemens.com  49 89 636 34134   \n",
       "1       ews@us.ibm.com     914-499-1900   \n",
       "\n",
       "                              description                    created_at  \\\n",
       "0  Electronics and Electrical Engineering  Thu Jul 31 09:29:43 UTC 2008   \n",
       "1                                          Fri Mar 14 22:55:52 UTC 2008   \n",
       "\n",
       "                     updated_at  \\\n",
       "0  Thu Nov 28 20:32:55 UTC 2013   \n",
       "1  Sat Jan 04 02:56:24 UTC 2014   \n",
       "\n",
       "                                            overview  \\\n",
       "0  <p>Siemens AG, an electronics and electrical e...   \n",
       "1  <p>IBM, acronym for International Business Mac...   \n",
       "\n",
       "                                               image  \\\n",
       "0  {'available_sizes': [[[150, 34], 'assets/image...   \n",
       "1  {'available_sizes': [[[150, 60], 'assets/image...   \n",
       "\n",
       "                                            products  \\\n",
       "0                                                 []   \n",
       "1  [{'name': 'Lotus Notes', 'permalink': 'lotus-n...   \n",
       "\n",
       "                                       relationships  \\\n",
       "0  [{'is_past': False, 'title': 'Chairman, Superv...   \n",
       "1  [{'is_past': False, 'title': 'Chairman of the ...   \n",
       "\n",
       "                                        competitions  \\\n",
       "0                                                 []   \n",
       "1  [{'competitor': {'name': 'BEA Systems', 'perma...   \n",
       "\n",
       "                                       providerships total_money_raised  \\\n",
       "0  [{'title': 'Application Development', 'is_past...              $8.9M   \n",
       "1  [{'title': '', 'is_past': False, 'provider': {...                 $0   \n",
       "\n",
       "                                      funding_rounds  \\\n",
       "0  [{'id': 17062, 'round_code': 'grant', 'source_...   \n",
       "1                                                 []   \n",
       "\n",
       "                                         investments acquisition  \\\n",
       "0                                                 []        None   \n",
       "1  [{'funding_round': {'round_code': 'c', 'source...        None   \n",
       "\n",
       "                                        acquisitions  \\\n",
       "0  [{'price_amount': 418000000, 'price_currency_c...   \n",
       "1  [{'price_amount': None, 'price_currency_code':...   \n",
       "\n",
       "                                             offices  \\\n",
       "0  [{'description': '', 'address1': 'Wittelsbache...   \n",
       "1  [{'description': 'Corporate Headquarters', 'ad...   \n",
       "\n",
       "                                          milestones  \\\n",
       "0  [{'id': 35852, 'description': 'Siemens Receive...   \n",
       "1  [{'id': 10471, 'description': 'IBM Completes A...   \n",
       "\n",
       "                                                 ipo  \\\n",
       "0  {'valuation_amount': None, 'valuation_currency...   \n",
       "1  {'valuation_amount': None, 'valuation_currency...   \n",
       "\n",
       "                                        video_embeds  \\\n",
       "0  [{'embed_code': '<iframe width=\"420\" height=\"3...   \n",
       "1  [{'embed_code': '<embed src=\"http://blip.tv/pl...   \n",
       "\n",
       "                                         screenshots  \\\n",
       "0  [{'available_sizes': [[[150, 92], 'assets/imag...   \n",
       "1  [{'available_sizes': [[[150, 93], 'assets/imag...   \n",
       "\n",
       "                                      external_links partners  \n",
       "0                                                 []       []  \n",
       "1  [{'external_url': 'http://mashpedia.com/IBM', ...       []  "
      ]
     },
     "execution_count": 90,
     "metadata": {},
     "output_type": "execute_result"
    }
   ],
   "source": [
    "# Your Code\n",
    "\n",
    "companies_by_employees = pd.DataFrame(db.coleccion.find({'number_of_employees': {\"$gt\": 5000}}).sort(\"number_of_employees\", -1).limit(20))\n",
    "print(companies_by_employees.shape)\n",
    "companies_by_employees.head(2)"
   ]
  },
  {
   "cell_type": "markdown",
   "metadata": {},
   "source": [
    "### 3. All the companies founded between 2000 and 2005, both years included. Retrieve only the `name` and `founded_year` fields."
   ]
  },
  {
   "cell_type": "code",
   "execution_count": 93,
   "metadata": {},
   "outputs": [
    {
     "name": "stdout",
     "output_type": "stream",
     "text": [
      "(3734, 3)\n"
     ]
    },
    {
     "data": {
      "text/html": [
       "<div>\n",
       "<style scoped>\n",
       "    .dataframe tbody tr th:only-of-type {\n",
       "        vertical-align: middle;\n",
       "    }\n",
       "\n",
       "    .dataframe tbody tr th {\n",
       "        vertical-align: top;\n",
       "    }\n",
       "\n",
       "    .dataframe thead th {\n",
       "        text-align: right;\n",
       "    }\n",
       "</style>\n",
       "<table border=\"1\" class=\"dataframe\">\n",
       "  <thead>\n",
       "    <tr style=\"text-align: right;\">\n",
       "      <th></th>\n",
       "      <th>_id</th>\n",
       "      <th>name</th>\n",
       "      <th>founded_year</th>\n",
       "    </tr>\n",
       "  </thead>\n",
       "  <tbody>\n",
       "    <tr>\n",
       "      <th>0</th>\n",
       "      <td>52cdef7c4bab8bd675297d8a</td>\n",
       "      <td>Wetpaint</td>\n",
       "      <td>2005</td>\n",
       "    </tr>\n",
       "    <tr>\n",
       "      <th>1</th>\n",
       "      <td>52cdef7c4bab8bd675297d8c</td>\n",
       "      <td>Zoho</td>\n",
       "      <td>2005</td>\n",
       "    </tr>\n",
       "    <tr>\n",
       "      <th>2</th>\n",
       "      <td>52cdef7c4bab8bd675297d8d</td>\n",
       "      <td>Digg</td>\n",
       "      <td>2004</td>\n",
       "    </tr>\n",
       "  </tbody>\n",
       "</table>\n",
       "</div>"
      ],
      "text/plain": [
       "                        _id      name  founded_year\n",
       "0  52cdef7c4bab8bd675297d8a  Wetpaint          2005\n",
       "1  52cdef7c4bab8bd675297d8c      Zoho          2005\n",
       "2  52cdef7c4bab8bd675297d8d      Digg          2004"
      ]
     },
     "execution_count": 93,
     "metadata": {},
     "output_type": "execute_result"
    }
   ],
   "source": [
    "# Your Code\n",
    "cond01 = {'founded_year': {\"$gte\": 2000}}\n",
    "cond02 = {'founded_year': {\"$lte\": 2005}}\n",
    "\n",
    "companies_btw_2000_2005 = pd.DataFrame(db.coleccion.find({'$and': [cond01,cond02]}, {'name':1, 'founded_year':1}))\n",
    "print(companies_btw_2000_2005.shape)\n",
    "companies_btw_2000_2005.head(3)"
   ]
  },
  {
   "cell_type": "markdown",
   "metadata": {},
   "source": [
    "### 4. All the companies that had a Valuation Amount of more than 100.000.000 and have been founded before 2010. Retrieve only the `name` and `ipo` fields."
   ]
  },
  {
   "cell_type": "code",
   "execution_count": 103,
   "metadata": {},
   "outputs": [
    {
     "name": "stdout",
     "output_type": "stream",
     "text": [
      "(42, 3)\n"
     ]
    },
    {
     "data": {
      "text/html": [
       "<div>\n",
       "<style scoped>\n",
       "    .dataframe tbody tr th:only-of-type {\n",
       "        vertical-align: middle;\n",
       "    }\n",
       "\n",
       "    .dataframe tbody tr th {\n",
       "        vertical-align: top;\n",
       "    }\n",
       "\n",
       "    .dataframe thead th {\n",
       "        text-align: right;\n",
       "    }\n",
       "</style>\n",
       "<table border=\"1\" class=\"dataframe\">\n",
       "  <thead>\n",
       "    <tr style=\"text-align: right;\">\n",
       "      <th></th>\n",
       "      <th>_id</th>\n",
       "      <th>founded_year</th>\n",
       "      <th>ipo</th>\n",
       "    </tr>\n",
       "  </thead>\n",
       "  <tbody>\n",
       "    <tr>\n",
       "      <th>0</th>\n",
       "      <td>52cdef7c4bab8bd675297d8e</td>\n",
       "      <td>2004</td>\n",
       "      <td>{'valuation_amount': 104000000000, 'valuation_...</td>\n",
       "    </tr>\n",
       "    <tr>\n",
       "      <th>1</th>\n",
       "      <td>52cdef7c4bab8bd675297d94</td>\n",
       "      <td>2006</td>\n",
       "      <td>{'valuation_amount': 18100000000, 'valuation_c...</td>\n",
       "    </tr>\n",
       "    <tr>\n",
       "      <th>2</th>\n",
       "      <td>52cdef7c4bab8bd675297de0</td>\n",
       "      <td>2004</td>\n",
       "      <td>{'valuation_amount': 1300000000, 'valuation_cu...</td>\n",
       "    </tr>\n",
       "  </tbody>\n",
       "</table>\n",
       "</div>"
      ],
      "text/plain": [
       "                        _id  founded_year  \\\n",
       "0  52cdef7c4bab8bd675297d8e          2004   \n",
       "1  52cdef7c4bab8bd675297d94          2006   \n",
       "2  52cdef7c4bab8bd675297de0          2004   \n",
       "\n",
       "                                                 ipo  \n",
       "0  {'valuation_amount': 104000000000, 'valuation_...  \n",
       "1  {'valuation_amount': 18100000000, 'valuation_c...  \n",
       "2  {'valuation_amount': 1300000000, 'valuation_cu...  "
      ]
     },
     "execution_count": 103,
     "metadata": {},
     "output_type": "execute_result"
    }
   ],
   "source": [
    "# Your Code\n",
    "cond01 = {'ipo.valuation_amount': {\"$gte\": 100000000}}\n",
    "cond02 = {'founded_year': {\"$lt\": 2010}}\n",
    "\n",
    "companies_100M_2010 = pd.DataFrame(db.coleccion.find({'$and': [cond01,cond02]}, {'ipo':1, 'founded_year':1}))\n",
    "print(companies_100M_2010.shape)\n",
    "companies_100M_2010.head(3)"
   ]
  },
  {
   "cell_type": "markdown",
   "metadata": {},
   "source": [
    "### 5. All the companies that have less than 1000 employees and have been founded before 2005. Order them by the number of employees and limit the search to 10 companies."
   ]
  },
  {
   "cell_type": "code",
   "execution_count": 106,
   "metadata": {},
   "outputs": [
    {
     "name": "stdout",
     "output_type": "stream",
     "text": [
      "(20, 42)\n"
     ]
    },
    {
     "data": {
      "text/html": [
       "<div>\n",
       "<style scoped>\n",
       "    .dataframe tbody tr th:only-of-type {\n",
       "        vertical-align: middle;\n",
       "    }\n",
       "\n",
       "    .dataframe tbody tr th {\n",
       "        vertical-align: top;\n",
       "    }\n",
       "\n",
       "    .dataframe thead th {\n",
       "        text-align: right;\n",
       "    }\n",
       "</style>\n",
       "<table border=\"1\" class=\"dataframe\">\n",
       "  <thead>\n",
       "    <tr style=\"text-align: right;\">\n",
       "      <th></th>\n",
       "      <th>_id</th>\n",
       "      <th>name</th>\n",
       "      <th>permalink</th>\n",
       "      <th>crunchbase_url</th>\n",
       "      <th>homepage_url</th>\n",
       "      <th>blog_url</th>\n",
       "      <th>blog_feed_url</th>\n",
       "      <th>twitter_username</th>\n",
       "      <th>category_code</th>\n",
       "      <th>number_of_employees</th>\n",
       "      <th>founded_year</th>\n",
       "      <th>founded_month</th>\n",
       "      <th>founded_day</th>\n",
       "      <th>deadpooled_year</th>\n",
       "      <th>deadpooled_month</th>\n",
       "      <th>deadpooled_day</th>\n",
       "      <th>deadpooled_url</th>\n",
       "      <th>tag_list</th>\n",
       "      <th>alias_list</th>\n",
       "      <th>email_address</th>\n",
       "      <th>phone_number</th>\n",
       "      <th>description</th>\n",
       "      <th>created_at</th>\n",
       "      <th>updated_at</th>\n",
       "      <th>overview</th>\n",
       "      <th>image</th>\n",
       "      <th>products</th>\n",
       "      <th>relationships</th>\n",
       "      <th>competitions</th>\n",
       "      <th>providerships</th>\n",
       "      <th>total_money_raised</th>\n",
       "      <th>funding_rounds</th>\n",
       "      <th>investments</th>\n",
       "      <th>acquisition</th>\n",
       "      <th>acquisitions</th>\n",
       "      <th>offices</th>\n",
       "      <th>milestones</th>\n",
       "      <th>ipo</th>\n",
       "      <th>video_embeds</th>\n",
       "      <th>screenshots</th>\n",
       "      <th>external_links</th>\n",
       "      <th>partners</th>\n",
       "    </tr>\n",
       "  </thead>\n",
       "  <tbody>\n",
       "    <tr>\n",
       "      <th>0</th>\n",
       "      <td>52cdef7d4bab8bd675298933</td>\n",
       "      <td>Infinera Corporation</td>\n",
       "      <td>infinera</td>\n",
       "      <td>http://www.crunchbase.com/company/infinera</td>\n",
       "      <td>http://www.infinera.com</td>\n",
       "      <td></td>\n",
       "      <td></td>\n",
       "      <td>InfineraCorp</td>\n",
       "      <td>network_hosting</td>\n",
       "      <td>974</td>\n",
       "      <td>2000</td>\n",
       "      <td>NaN</td>\n",
       "      <td>NaN</td>\n",
       "      <td>None</td>\n",
       "      <td>None</td>\n",
       "      <td>None</td>\n",
       "      <td>None</td>\n",
       "      <td>None</td>\n",
       "      <td>Zepton Networks</td>\n",
       "      <td></td>\n",
       "      <td>408-572-5200</td>\n",
       "      <td>Optical Networking Systems</td>\n",
       "      <td>Tue Apr 29 19:43:09 UTC 2008</td>\n",
       "      <td>Tue Jan 10 22:07:21 UTC 2012</td>\n",
       "      <td>&lt;p&gt;Infinera Corporation provides optical netwo...</td>\n",
       "      <td>{'available_sizes': [[[150, 38], 'assets/image...</td>\n",
       "      <td>[]</td>\n",
       "      <td>[{'is_past': False, 'title': 'CEO', 'person': ...</td>\n",
       "      <td>[]</td>\n",
       "      <td>[]</td>\n",
       "      <td>$0</td>\n",
       "      <td>[]</td>\n",
       "      <td>[]</td>\n",
       "      <td>None</td>\n",
       "      <td>[]</td>\n",
       "      <td>[{'description': 'Headquarters', 'address1': '...</td>\n",
       "      <td>[{'id': 20267, 'description': 'Infinera PICs S...</td>\n",
       "      <td>{'valuation_amount': None, 'valuation_currency...</td>\n",
       "      <td>[]</td>\n",
       "      <td>[{'available_sizes': [[[150, 112], 'assets/ima...</td>\n",
       "      <td>[]</td>\n",
       "      <td>[]</td>\n",
       "    </tr>\n",
       "    <tr>\n",
       "      <th>1</th>\n",
       "      <td>52cdef7e4bab8bd67529ac95</td>\n",
       "      <td>NorthPoint Communications Group</td>\n",
       "      <td>northpoint-communications-group</td>\n",
       "      <td>http://www.crunchbase.com/company/northpoint-c...</td>\n",
       "      <td></td>\n",
       "      <td></td>\n",
       "      <td></td>\n",
       "      <td></td>\n",
       "      <td>network_hosting</td>\n",
       "      <td>948</td>\n",
       "      <td>1997</td>\n",
       "      <td>NaN</td>\n",
       "      <td>NaN</td>\n",
       "      <td>None</td>\n",
       "      <td>None</td>\n",
       "      <td>None</td>\n",
       "      <td>None</td>\n",
       "      <td>None</td>\n",
       "      <td></td>\n",
       "      <td></td>\n",
       "      <td>415-403-4003</td>\n",
       "      <td>data transport services</td>\n",
       "      <td>Fri Jan 16 03:27:17 UTC 2009</td>\n",
       "      <td>Sun Jun 20 20:07:21 UTC 2010</td>\n",
       "      <td>&lt;p&gt;NorthPoint Communications Group, Inc. provi...</td>\n",
       "      <td>None</td>\n",
       "      <td>[]</td>\n",
       "      <td>[{'is_past': True, 'title': 'SVP, Business Dev...</td>\n",
       "      <td>[]</td>\n",
       "      <td>[]</td>\n",
       "      <td>$0</td>\n",
       "      <td>[]</td>\n",
       "      <td>[]</td>\n",
       "      <td>None</td>\n",
       "      <td>[]</td>\n",
       "      <td>[{'description': 'HQ', 'address1': '303 Second...</td>\n",
       "      <td>[]</td>\n",
       "      <td>None</td>\n",
       "      <td>[]</td>\n",
       "      <td>[]</td>\n",
       "      <td>[]</td>\n",
       "      <td>[]</td>\n",
       "    </tr>\n",
       "  </tbody>\n",
       "</table>\n",
       "</div>"
      ],
      "text/plain": [
       "                        _id                             name  \\\n",
       "0  52cdef7d4bab8bd675298933             Infinera Corporation   \n",
       "1  52cdef7e4bab8bd67529ac95  NorthPoint Communications Group   \n",
       "\n",
       "                         permalink  \\\n",
       "0                         infinera   \n",
       "1  northpoint-communications-group   \n",
       "\n",
       "                                      crunchbase_url             homepage_url  \\\n",
       "0         http://www.crunchbase.com/company/infinera  http://www.infinera.com   \n",
       "1  http://www.crunchbase.com/company/northpoint-c...                            \n",
       "\n",
       "  blog_url blog_feed_url twitter_username    category_code  \\\n",
       "0                            InfineraCorp  network_hosting   \n",
       "1                                          network_hosting   \n",
       "\n",
       "   number_of_employees  founded_year  founded_month  founded_day  \\\n",
       "0                  974          2000            NaN          NaN   \n",
       "1                  948          1997            NaN          NaN   \n",
       "\n",
       "  deadpooled_year deadpooled_month deadpooled_day deadpooled_url tag_list  \\\n",
       "0            None             None           None           None     None   \n",
       "1            None             None           None           None     None   \n",
       "\n",
       "        alias_list email_address  phone_number                 description  \\\n",
       "0  Zepton Networks                408-572-5200  Optical Networking Systems   \n",
       "1                                 415-403-4003     data transport services   \n",
       "\n",
       "                     created_at                    updated_at  \\\n",
       "0  Tue Apr 29 19:43:09 UTC 2008  Tue Jan 10 22:07:21 UTC 2012   \n",
       "1  Fri Jan 16 03:27:17 UTC 2009  Sun Jun 20 20:07:21 UTC 2010   \n",
       "\n",
       "                                            overview  \\\n",
       "0  <p>Infinera Corporation provides optical netwo...   \n",
       "1  <p>NorthPoint Communications Group, Inc. provi...   \n",
       "\n",
       "                                               image products  \\\n",
       "0  {'available_sizes': [[[150, 38], 'assets/image...       []   \n",
       "1                                               None       []   \n",
       "\n",
       "                                       relationships competitions  \\\n",
       "0  [{'is_past': False, 'title': 'CEO', 'person': ...           []   \n",
       "1  [{'is_past': True, 'title': 'SVP, Business Dev...           []   \n",
       "\n",
       "  providerships total_money_raised funding_rounds investments acquisition  \\\n",
       "0            []                 $0             []          []        None   \n",
       "1            []                 $0             []          []        None   \n",
       "\n",
       "  acquisitions                                            offices  \\\n",
       "0           []  [{'description': 'Headquarters', 'address1': '...   \n",
       "1           []  [{'description': 'HQ', 'address1': '303 Second...   \n",
       "\n",
       "                                          milestones  \\\n",
       "0  [{'id': 20267, 'description': 'Infinera PICs S...   \n",
       "1                                                 []   \n",
       "\n",
       "                                                 ipo video_embeds  \\\n",
       "0  {'valuation_amount': None, 'valuation_currency...           []   \n",
       "1                                               None           []   \n",
       "\n",
       "                                         screenshots external_links partners  \n",
       "0  [{'available_sizes': [[[150, 112], 'assets/ima...             []       []  \n",
       "1                                                 []             []       []  "
      ]
     },
     "execution_count": 106,
     "metadata": {},
     "output_type": "execute_result"
    }
   ],
   "source": [
    "# Your Code\n",
    "cond01 = {'number_of_employees': {\"$lt\": 1000}}\n",
    "cond02 = {'founded_year': {\"$lt\": 2005}}\n",
    "\n",
    "companies_2005_1000emp = pd.DataFrame(db.coleccion.find({'$and': [cond01,cond02]}).sort(\"number_of_employees\", -1).limit(20))\n",
    "print(companies_2005_1000emp.shape)\n",
    "companies_2005_1000emp.head(2)"
   ]
  },
  {
   "cell_type": "markdown",
   "metadata": {},
   "source": [
    "### 6. All the companies that don't include the `partners` field."
   ]
  },
  {
   "cell_type": "code",
   "execution_count": 125,
   "metadata": {},
   "outputs": [
    {
     "data": {
      "text/html": [
       "<div>\n",
       "<style scoped>\n",
       "    .dataframe tbody tr th:only-of-type {\n",
       "        vertical-align: middle;\n",
       "    }\n",
       "\n",
       "    .dataframe tbody tr th {\n",
       "        vertical-align: top;\n",
       "    }\n",
       "\n",
       "    .dataframe thead th {\n",
       "        text-align: right;\n",
       "    }\n",
       "</style>\n",
       "<table border=\"1\" class=\"dataframe\">\n",
       "  <thead>\n",
       "    <tr style=\"text-align: right;\">\n",
       "      <th></th>\n",
       "    </tr>\n",
       "  </thead>\n",
       "  <tbody>\n",
       "  </tbody>\n",
       "</table>\n",
       "</div>"
      ],
      "text/plain": [
       "Empty DataFrame\n",
       "Columns: []\n",
       "Index: []"
      ]
     },
     "execution_count": 125,
     "metadata": {},
     "output_type": "execute_result"
    }
   ],
   "source": [
    "# Your Code\n",
    "pd.DataFrame(db.coleccion.find({ 'partners': { '$exists': False}}, {'name':1} )) ##funciona, pero no da resultados"
   ]
  },
  {
   "cell_type": "markdown",
   "metadata": {},
   "source": [
    "### 7. All the companies that have a null type of value on the `category_code` field."
   ]
  },
  {
   "cell_type": "code",
   "execution_count": 137,
   "metadata": {},
   "outputs": [
    {
     "name": "stdout",
     "output_type": "stream",
     "text": [
      "(2751, 2)\n"
     ]
    },
    {
     "data": {
      "text/html": [
       "<div>\n",
       "<style scoped>\n",
       "    .dataframe tbody tr th:only-of-type {\n",
       "        vertical-align: middle;\n",
       "    }\n",
       "\n",
       "    .dataframe tbody tr th {\n",
       "        vertical-align: top;\n",
       "    }\n",
       "\n",
       "    .dataframe thead th {\n",
       "        text-align: right;\n",
       "    }\n",
       "</style>\n",
       "<table border=\"1\" class=\"dataframe\">\n",
       "  <thead>\n",
       "    <tr style=\"text-align: right;\">\n",
       "      <th></th>\n",
       "      <th>_id</th>\n",
       "      <th>name</th>\n",
       "    </tr>\n",
       "  </thead>\n",
       "  <tbody>\n",
       "    <tr>\n",
       "      <th>0</th>\n",
       "      <td>52cdef7c4bab8bd6752980f6</td>\n",
       "      <td>Collective</td>\n",
       "    </tr>\n",
       "  </tbody>\n",
       "</table>\n",
       "</div>"
      ],
      "text/plain": [
       "                        _id        name\n",
       "0  52cdef7c4bab8bd6752980f6  Collective"
      ]
     },
     "execution_count": 137,
     "metadata": {},
     "output_type": "execute_result"
    }
   ],
   "source": [
    "# Your Code\n",
    "null_category = pd.DataFrame(db.coleccion.find({\"category_code\":{\"$type\":\"null\"}},{\"name\":1}))\n",
    "print(null_category.shape)\n",
    "null_category.head(1)"
   ]
  },
  {
   "cell_type": "markdown",
   "metadata": {},
   "source": [
    "### 8. All the companies that have at least 100 employees but less than 1000. Retrieve only the `name` and `number of employees` fields."
   ]
  },
  {
   "cell_type": "code",
   "execution_count": 139,
   "metadata": {},
   "outputs": [
    {
     "name": "stdout",
     "output_type": "stream",
     "text": [
      "(753, 2)\n"
     ]
    },
    {
     "data": {
      "text/html": [
       "<div>\n",
       "<style scoped>\n",
       "    .dataframe tbody tr th:only-of-type {\n",
       "        vertical-align: middle;\n",
       "    }\n",
       "\n",
       "    .dataframe tbody tr th {\n",
       "        vertical-align: top;\n",
       "    }\n",
       "\n",
       "    .dataframe thead th {\n",
       "        text-align: right;\n",
       "    }\n",
       "</style>\n",
       "<table border=\"1\" class=\"dataframe\">\n",
       "  <thead>\n",
       "    <tr style=\"text-align: right;\">\n",
       "      <th></th>\n",
       "      <th>name</th>\n",
       "      <th>number_of_employees</th>\n",
       "    </tr>\n",
       "  </thead>\n",
       "  <tbody>\n",
       "    <tr>\n",
       "      <th>0</th>\n",
       "      <td>AdventNet</td>\n",
       "      <td>600</td>\n",
       "    </tr>\n",
       "    <tr>\n",
       "      <th>1</th>\n",
       "      <td>AddThis</td>\n",
       "      <td>120</td>\n",
       "    </tr>\n",
       "  </tbody>\n",
       "</table>\n",
       "</div>"
      ],
      "text/plain": [
       "        name  number_of_employees\n",
       "0  AdventNet                  600\n",
       "1    AddThis                  120"
      ]
     },
     "execution_count": 139,
     "metadata": {},
     "output_type": "execute_result"
    }
   ],
   "source": [
    "# Your Code\n",
    "cond01 = {'number_of_employees': {\"$gt\": 100}}\n",
    "cond02 = {'number_of_employees': {\"$lt\": 1000}}\n",
    "\n",
    "companies_100_1000 = pd.DataFrame(db.coleccion.find({'$and': [cond01,cond02]}, {'name':1, 'number_of_employees':1, '_id':0}))\n",
    "print(companies_100_1000.shape)\n",
    "companies_100_1000.head(2)\n"
   ]
  },
  {
   "cell_type": "markdown",
   "metadata": {},
   "source": [
    "### 9. Order all the companies by their IPO price in a descending order."
   ]
  },
  {
   "cell_type": "code",
   "execution_count": null,
   "metadata": {},
   "outputs": [],
   "source": [
    "# Your Code"
   ]
  },
  {
   "cell_type": "markdown",
   "metadata": {},
   "source": [
    "### 10. Retrieve the 10 companies with more employees, order by the `number of employees`"
   ]
  },
  {
   "cell_type": "code",
   "execution_count": null,
   "metadata": {},
   "outputs": [],
   "source": [
    "# Your Code"
   ]
  },
  {
   "cell_type": "markdown",
   "metadata": {},
   "source": [
    "### 11. All the companies founded on the second semester of the year. Limit your search to 1000 companies."
   ]
  },
  {
   "cell_type": "code",
   "execution_count": null,
   "metadata": {},
   "outputs": [],
   "source": [
    "# Your Code"
   ]
  },
  {
   "cell_type": "markdown",
   "metadata": {},
   "source": [
    "### 12. All the companies founded before 2000 that have an acquisition amount of more than 10.000.00"
   ]
  },
  {
   "cell_type": "code",
   "execution_count": null,
   "metadata": {},
   "outputs": [],
   "source": [
    "# Your Code"
   ]
  },
  {
   "cell_type": "markdown",
   "metadata": {},
   "source": [
    "### 13. All the companies that have been acquired after 2010, order by the acquisition amount, and retrieve only their `name` and `acquisition` field."
   ]
  },
  {
   "cell_type": "code",
   "execution_count": null,
   "metadata": {},
   "outputs": [],
   "source": [
    "# Your Code"
   ]
  },
  {
   "cell_type": "markdown",
   "metadata": {},
   "source": [
    "### 14. Order the companies by their `founded year`, retrieving only their `name` and `founded year`."
   ]
  },
  {
   "cell_type": "code",
   "execution_count": null,
   "metadata": {},
   "outputs": [],
   "source": [
    "# Your Code"
   ]
  },
  {
   "cell_type": "markdown",
   "metadata": {},
   "source": [
    "### 15. All the companies that have been founded on the first seven days of the month, including the seventh. Sort them by their `acquisition price` in a descending order. Limit the search to 10 documents."
   ]
  },
  {
   "cell_type": "code",
   "execution_count": null,
   "metadata": {},
   "outputs": [],
   "source": [
    "# Your Code"
   ]
  },
  {
   "cell_type": "markdown",
   "metadata": {},
   "source": [
    "### 16. All the companies on the 'web' `category` that have more than 4000 employees. Sort them by the amount of employees in ascending order."
   ]
  },
  {
   "cell_type": "code",
   "execution_count": null,
   "metadata": {},
   "outputs": [],
   "source": [
    "# Your Code"
   ]
  },
  {
   "cell_type": "markdown",
   "metadata": {},
   "source": [
    "### 17. All the companies whose acquisition amount is more than 10.000.000, and currency is 'EUR'."
   ]
  },
  {
   "cell_type": "code",
   "execution_count": null,
   "metadata": {},
   "outputs": [],
   "source": [
    "# Your Code"
   ]
  },
  {
   "cell_type": "markdown",
   "metadata": {},
   "source": [
    "### 18. All the companies that have been acquired on the first trimester of the year. Limit the search to 10 companies, and retrieve only their `name` and `acquisition` fields."
   ]
  },
  {
   "cell_type": "code",
   "execution_count": null,
   "metadata": {},
   "outputs": [],
   "source": [
    "# Your Code"
   ]
  },
  {
   "cell_type": "markdown",
   "metadata": {},
   "source": [
    "# Bonus\n",
    "### 19. All the companies that have been founded between 2000 and 2010, but have not been acquired before 2011."
   ]
  },
  {
   "cell_type": "code",
   "execution_count": null,
   "metadata": {},
   "outputs": [],
   "source": [
    "# Your Code"
   ]
  },
  {
   "cell_type": "markdown",
   "metadata": {},
   "source": [
    "### 20. All the companies that have been 'deadpooled' after the third year."
   ]
  },
  {
   "cell_type": "code",
   "execution_count": null,
   "metadata": {},
   "outputs": [],
   "source": [
    "# Your Code"
   ]
  }
 ],
 "metadata": {
  "kernelspec": {
   "display_name": "Python 3.9.13 ('iron')",
   "language": "python",
   "name": "python3"
  },
  "language_info": {
   "codemirror_mode": {
    "name": "ipython",
    "version": 3
   },
   "file_extension": ".py",
   "mimetype": "text/x-python",
   "name": "python",
   "nbconvert_exporter": "python",
   "pygments_lexer": "ipython3",
   "version": "3.9.13"
  },
  "vscode": {
   "interpreter": {
    "hash": "e59d0b279e6461be5b4ea7b62838527cd8f41f3cbc9a1147b1a83b32d75ab689"
   }
  }
 },
 "nbformat": 4,
 "nbformat_minor": 2
}
