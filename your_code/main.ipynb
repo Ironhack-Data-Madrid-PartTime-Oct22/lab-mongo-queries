{
 "cells": [
  {
   "cell_type": "markdown",
   "metadata": {},
   "source": [
    "# Advanced Querying Mongo"
   ]
  },
  {
   "cell_type": "markdown",
   "metadata": {},
   "source": [
    "Importing libraries and setting up connection"
   ]
  },
  {
   "cell_type": "code",
   "execution_count": 22,
   "metadata": {},
   "outputs": [],
   "source": [
    "from pymongo import MongoClient\n",
    "import pymongo ## lo voy a improtar todo again sorry\n",
    "import pandas as pd\n",
    "import json\n",
    "pd.options.display.max_columns = None"
   ]
  },
  {
   "cell_type": "code",
   "execution_count": 65,
   "metadata": {},
   "outputs": [
    {
     "data": {
      "text/html": [
       "<div>\n",
       "<style scoped>\n",
       "    .dataframe tbody tr th:only-of-type {\n",
       "        vertical-align: middle;\n",
       "    }\n",
       "\n",
       "    .dataframe tbody tr th {\n",
       "        vertical-align: top;\n",
       "    }\n",
       "\n",
       "    .dataframe thead th {\n",
       "        text-align: right;\n",
       "    }\n",
       "</style>\n",
       "<table border=\"1\" class=\"dataframe\">\n",
       "  <thead>\n",
       "    <tr style=\"text-align: right;\">\n",
       "      <th></th>\n",
       "      <th>_id</th>\n",
       "      <th>name</th>\n",
       "      <th>permalink</th>\n",
       "      <th>crunchbase_url</th>\n",
       "      <th>homepage_url</th>\n",
       "      <th>blog_url</th>\n",
       "      <th>blog_feed_url</th>\n",
       "      <th>twitter_username</th>\n",
       "      <th>category_code</th>\n",
       "      <th>number_of_employees</th>\n",
       "      <th>founded_year</th>\n",
       "      <th>founded_month</th>\n",
       "      <th>founded_day</th>\n",
       "      <th>deadpooled_year</th>\n",
       "      <th>tag_list</th>\n",
       "      <th>alias_list</th>\n",
       "      <th>email_address</th>\n",
       "      <th>phone_number</th>\n",
       "      <th>description</th>\n",
       "      <th>created_at</th>\n",
       "      <th>updated_at</th>\n",
       "      <th>overview</th>\n",
       "      <th>image</th>\n",
       "      <th>products</th>\n",
       "      <th>relationships</th>\n",
       "      <th>competitions</th>\n",
       "      <th>providerships</th>\n",
       "      <th>total_money_raised</th>\n",
       "      <th>funding_rounds</th>\n",
       "      <th>investments</th>\n",
       "      <th>acquisition</th>\n",
       "      <th>acquisitions</th>\n",
       "      <th>offices</th>\n",
       "      <th>milestones</th>\n",
       "      <th>video_embeds</th>\n",
       "      <th>screenshots</th>\n",
       "      <th>external_links</th>\n",
       "      <th>partners</th>\n",
       "      <th>deadpooled_month</th>\n",
       "      <th>deadpooled_day</th>\n",
       "      <th>deadpooled_url</th>\n",
       "      <th>ipo</th>\n",
       "    </tr>\n",
       "  </thead>\n",
       "  <tbody>\n",
       "    <tr>\n",
       "      <th>0</th>\n",
       "      <td>{'$oid': '52cdef7c4bab8bd675297d8a'}</td>\n",
       "      <td>Wetpaint</td>\n",
       "      <td>abc2</td>\n",
       "      <td>http://www.crunchbase.com/company/wetpaint</td>\n",
       "      <td>http://wetpaint-inc.com</td>\n",
       "      <td>http://digitalquarters.net/</td>\n",
       "      <td>http://digitalquarters.net/feed/</td>\n",
       "      <td>BachelrWetpaint</td>\n",
       "      <td>web</td>\n",
       "      <td>47.0</td>\n",
       "      <td>2005.0</td>\n",
       "      <td>10.0</td>\n",
       "      <td>17.0</td>\n",
       "      <td>1.0</td>\n",
       "      <td>wiki, seattle, elowitz, media-industry, media-...</td>\n",
       "      <td></td>\n",
       "      <td>info@wetpaint.com</td>\n",
       "      <td>206.859.6300</td>\n",
       "      <td>Technology Platform Company</td>\n",
       "      <td>{'$date': 1180075887000}</td>\n",
       "      <td>2013-12-08 07:15:44+00:00</td>\n",
       "      <td>&lt;p&gt;Wetpaint is a technology platform company t...</td>\n",
       "      <td>{'available_sizes': [[[150, 75], 'assets/image...</td>\n",
       "      <td>[{'name': 'Wikison Wetpaint', 'permalink': 'we...</td>\n",
       "      <td>[{'is_past': False, 'title': 'Co-Founder and V...</td>\n",
       "      <td>[{'competitor': {'name': 'Wikia', 'permalink':...</td>\n",
       "      <td>[]</td>\n",
       "      <td>$39.8M</td>\n",
       "      <td>[{'id': 888, 'round_code': 'a', 'source_url': ...</td>\n",
       "      <td>[]</td>\n",
       "      <td>{'price_amount': 30000000, 'price_currency_cod...</td>\n",
       "      <td>[]</td>\n",
       "      <td>[{'description': '', 'address1': '710 - 2nd Av...</td>\n",
       "      <td>[{'id': 5869, 'description': 'Wetpaint named i...</td>\n",
       "      <td>[]</td>\n",
       "      <td>[{'available_sizes': [[[150, 86], 'assets/imag...</td>\n",
       "      <td>[{'external_url': 'http://www.geekwire.com/201...</td>\n",
       "      <td>[]</td>\n",
       "      <td>NaN</td>\n",
       "      <td>NaN</td>\n",
       "      <td>NaN</td>\n",
       "      <td>NaN</td>\n",
       "    </tr>\n",
       "  </tbody>\n",
       "</table>\n",
       "</div>"
      ],
      "text/plain": [
       "                                    _id      name permalink  \\\n",
       "0  {'$oid': '52cdef7c4bab8bd675297d8a'}  Wetpaint      abc2   \n",
       "\n",
       "                               crunchbase_url             homepage_url  \\\n",
       "0  http://www.crunchbase.com/company/wetpaint  http://wetpaint-inc.com   \n",
       "\n",
       "                      blog_url                     blog_feed_url  \\\n",
       "0  http://digitalquarters.net/  http://digitalquarters.net/feed/   \n",
       "\n",
       "  twitter_username category_code  number_of_employees  founded_year  \\\n",
       "0  BachelrWetpaint           web                 47.0        2005.0   \n",
       "\n",
       "   founded_month  founded_day  deadpooled_year  \\\n",
       "0           10.0         17.0              1.0   \n",
       "\n",
       "                                            tag_list alias_list  \\\n",
       "0  wiki, seattle, elowitz, media-industry, media-...              \n",
       "\n",
       "       email_address  phone_number                  description  \\\n",
       "0  info@wetpaint.com  206.859.6300  Technology Platform Company   \n",
       "\n",
       "                 created_at                updated_at  \\\n",
       "0  {'$date': 1180075887000} 2013-12-08 07:15:44+00:00   \n",
       "\n",
       "                                            overview  \\\n",
       "0  <p>Wetpaint is a technology platform company t...   \n",
       "\n",
       "                                               image  \\\n",
       "0  {'available_sizes': [[[150, 75], 'assets/image...   \n",
       "\n",
       "                                            products  \\\n",
       "0  [{'name': 'Wikison Wetpaint', 'permalink': 'we...   \n",
       "\n",
       "                                       relationships  \\\n",
       "0  [{'is_past': False, 'title': 'Co-Founder and V...   \n",
       "\n",
       "                                        competitions providerships  \\\n",
       "0  [{'competitor': {'name': 'Wikia', 'permalink':...            []   \n",
       "\n",
       "  total_money_raised                                     funding_rounds  \\\n",
       "0             $39.8M  [{'id': 888, 'round_code': 'a', 'source_url': ...   \n",
       "\n",
       "  investments                                        acquisition acquisitions  \\\n",
       "0          []  {'price_amount': 30000000, 'price_currency_cod...           []   \n",
       "\n",
       "                                             offices  \\\n",
       "0  [{'description': '', 'address1': '710 - 2nd Av...   \n",
       "\n",
       "                                          milestones video_embeds  \\\n",
       "0  [{'id': 5869, 'description': 'Wetpaint named i...           []   \n",
       "\n",
       "                                         screenshots  \\\n",
       "0  [{'available_sizes': [[[150, 86], 'assets/imag...   \n",
       "\n",
       "                                      external_links partners  \\\n",
       "0  [{'external_url': 'http://www.geekwire.com/201...       []   \n",
       "\n",
       "   deadpooled_month  deadpooled_day deadpooled_url  ipo  \n",
       "0               NaN             NaN            NaN  NaN  "
      ]
     },
     "execution_count": 65,
     "metadata": {},
     "output_type": "execute_result"
    }
   ],
   "source": [
    "## me traigo el dataframe\n",
    "df = pd.read_json(\"../companies.json\", lines=True)\n",
    "df.head(1)"
   ]
  },
  {
   "cell_type": "code",
   "execution_count": 3,
   "metadata": {},
   "outputs": [
    {
     "data": {
      "text/plain": [
       "MongoClient(host=['localhost:27017'], document_class=dict, tz_aware=False, connect=True)"
      ]
     },
     "execution_count": 3,
     "metadata": {},
     "output_type": "execute_result"
    }
   ],
   "source": [
    "## genero el cliente\n",
    "cliente = pymongo.MongoClient()\n",
    "cliente"
   ]
  },
  {
   "cell_type": "code",
   "execution_count": 72,
   "metadata": {},
   "outputs": [],
   "source": [
    "## me creo una base de datos nueva\n",
    "db = cliente[\"companies\"]"
   ]
  },
  {
   "cell_type": "code",
   "execution_count": 73,
   "metadata": {},
   "outputs": [],
   "source": [
    "## creo una colección dentro de mi bbdd\n",
    "\n",
    "coleccion = db.detalles"
   ]
  },
  {
   "cell_type": "code",
   "execution_count": 54,
   "metadata": {},
   "outputs": [
    {
     "data": {
      "text/plain": [
       "list"
      ]
     },
     "execution_count": 54,
     "metadata": {},
     "output_type": "execute_result"
    }
   ],
   "source": [
    "type(df.to_dict('records'))"
   ]
  },
  {
   "cell_type": "code",
   "execution_count": 69,
   "metadata": {},
   "outputs": [],
   "source": [
    "## insertar el df que acabo de cargar a mi bbdd -- > me da error, así que lo voy a subir a la bbdd a mano\n",
    "df_toinsert = df.to_dict('records')\n",
    "#coleccion.insert_many(df_toinsert)"
   ]
  },
  {
   "cell_type": "code",
   "execution_count": 70,
   "metadata": {},
   "outputs": [
    {
     "data": {
      "text/plain": [
       "['admin',\n",
       " 'alojamientos_data',\n",
       " 'alojamientos_data2',\n",
       " 'companies',\n",
       " 'config',\n",
       " 'local']"
      ]
     },
     "execution_count": 70,
     "metadata": {},
     "output_type": "execute_result"
    }
   ],
   "source": [
    "## checkeo y el import desde mongo se ha hecho con éxito\n",
    "cliente.list_database_names()"
   ]
  },
  {
   "cell_type": "markdown",
   "metadata": {},
   "source": [
    "### 1. All the companies whose name match 'Babelgum'. Retrieve only their `name` field."
   ]
  },
  {
   "cell_type": "code",
   "execution_count": 79,
   "metadata": {},
   "outputs": [
    {
     "data": {
      "text/plain": [
       "<pymongo.cursor.Cursor at 0x1bf851fb7c0>"
      ]
     },
     "execution_count": 79,
     "metadata": {},
     "output_type": "execute_result"
    }
   ],
   "source": [
    "db.coleccion.find(\n",
    "  {}\n",
    ") ## así es como tengo que llamar a mi bbdd"
   ]
  },
  {
   "cell_type": "code",
   "execution_count": 80,
   "metadata": {},
   "outputs": [
    {
     "data": {
      "text/plain": [
       "[{'_id': ObjectId('52cdef7c4bab8bd675297da0'),\n",
       "  'name': 'Babelgum',\n",
       "  'permalink': 'babelgum',\n",
       "  'crunchbase_url': 'http://www.crunchbase.com/company/babelgum',\n",
       "  'homepage_url': 'http://babelgum.com',\n",
       "  'blog_url': 'http://babelgum.com/blog',\n",
       "  'blog_feed_url': 'http://feeds.feedburner.com/Babelgum',\n",
       "  'twitter_username': 'Babelgum',\n",
       "  'category_code': 'games_video',\n",
       "  'number_of_employees': None,\n",
       "  'founded_year': 2007,\n",
       "  'founded_month': 3,\n",
       "  'founded_day': 1,\n",
       "  'deadpooled_year': 2013,\n",
       "  'deadpooled_month': 1,\n",
       "  'deadpooled_day': 9,\n",
       "  'deadpooled_url': '',\n",
       "  'tag_list': 'iptv, web2ireland',\n",
       "  'alias_list': '',\n",
       "  'email_address': 'info@babelgum.com',\n",
       "  'phone_number': '',\n",
       "  'description': '',\n",
       "  'created_at': 'Sat Jun 09 08:15:21 UTC 2007',\n",
       "  'updated_at': 'Wed Oct 16 06:30:25 UTC 2013',\n",
       "  'overview': '<p>Babelgum is an integrated web and mobile video content platform, free for users and supported by advertising, available on-demand to a global audience.</p>\\n\\n<p>On March 20th 2009 Babelgum released a U.S. version of its mobile video application for iPhone and iPod Touch (previously available in Italy and the UK) and simultaneously launched a redesigned website (www.babelgum.com) with a Flash-based player, offering one of the first fully integrated video mobile and web user experiences.</p>\\n\\n<p>Babelgum Mobile is currently available in the United States, UK, Italy, Germany, France and Spain and over 50 other countries across the globe on iPhone 3G, iPod Touch, Google Android G-Phones 1 and 2, Nokia (N96, N95 and 6210) via 3G and WiFi.</p>\\n\\n<p>Babelgum is an independent and privately held company with offices in the United States, UK, Ireland, France and Italy.</p>\\n\\n<p>TRAFFIC FIGURES</p>\\n\\n<p>In July 2009 Babelgum recorded on its website over 2 million monthly unique users worldwide â€“ 1.7 million in the US alone (Source: comScore). Over 2 million people have downloaded the Babelgum mobile applications and watched videos on them.</p>\\n\\n<p>DEVELOPMENT STRATEGY</p>\\n\\n<p>In Europe, Babelgum made a strategic agreement with Vodafone to launch a mobile service that allows users to watch videos for free also over 3G networks (Vodafone supports marketing campaigns through SMS and other PR activities targeting their Customer Base). Babelgum is also seeking selected strategic partnerships in the United States.</p>\\n\\n<p>BABELGUMâ€™S EDITORIAL APPROACH TO CONTENT</p>\\n\\n<p>Positioned between user generated video hubs and network TV-oriented destinations, Babelgum has a unique editorial approach which focuses on the third part of the ecosystem: innovative, professionally produced content on very specific passions curated by experts in their fields. </p>\\n\\n<p>The editorial team is driven by professional publishers who scout and select programming for the following channels: Music, Comedy, Film, Our Earth (dedicated to nature and the environment) and Metropolis (all about urban culture and trends). </p>\\n\\n<p>The mobile and web platforms are integrated functionally and graphically and complement each other, although mobile programming is more carefully tailored to local markets, based on research into national tastes and viewing habits. </p>\\n\\n<p>Babelgumâ€™s content comprises independent and mainstream programming as well as exclusive original productions.</p>\\n\\n<p>LIST OF MAIN CONTENT PROVIDERS:</p>\\n\\n<p>Babelgumâ€™s content partners include, among others, EMI, Sony BMG, the New York Times, PBS, BBC, VBS, Lonely Planet, Coolhunting, National Geographic, Funny or Die, T5M, Shine Limited, Cinetic Rights Management, Content Republic, Gong Anime, The Workbook Project, Cinelan, Power to the Pixel and Off the Fence as well as the Seattle, Encounters, Los Angeles, and Hamptons film festivals.</p>\\n\\n<p>ONLINE VIDEO COMPETITIONS:</p>\\n\\n<p>The company has also set up a series of online contests to nurture independent film, music and art talent: the Babelgum Online Film Festival, the Babelgum Music Video Awards and the Babelgum Metropolis Art Prize chaired respectively by Spike Lee, Michel Gondry and Isabella Rossellini.</p>',\n",
       "  'image': {'available_sizes': [[[135, 102],\n",
       "     'assets/images/resized/0006/7738/67738v2-max-150x150.png'],\n",
       "    [[135, 102], 'assets/images/resized/0006/7738/67738v2-max-250x250.png'],\n",
       "    [[135, 102], 'assets/images/resized/0006/7738/67738v2-max-450x450.png']],\n",
       "   'attribution': None},\n",
       "  'products': [{'name': 'Babelgum', 'permalink': 'babelgum'}],\n",
       "  'relationships': [{'is_past': False,\n",
       "    'title': 'CEO',\n",
       "    'person': {'first_name': 'Valerio',\n",
       "     'last_name': 'Zingarelli',\n",
       "     'permalink': 'valerio-zingarelli'}},\n",
       "   {'is_past': True,\n",
       "    'title': 'CTO',\n",
       "    'person': {'first_name': 'Mallku',\n",
       "     'last_name': 'Caballero',\n",
       "     'permalink': 'mallku-caballero'}},\n",
       "   {'is_past': True,\n",
       "    'title': '',\n",
       "    'person': {'first_name': 'Michael',\n",
       "     'last_name': \"O'Callaghan\",\n",
       "     'permalink': 'michael-o-callaghan'}},\n",
       "   {'is_past': True,\n",
       "    'title': '',\n",
       "    'person': {'first_name': 'Erik',\n",
       "     'last_name': 'Lumer',\n",
       "     'permalink': 'erik-lumer'}},\n",
       "   {'is_past': True,\n",
       "    'title': 'Engineering Director',\n",
       "    'person': {'first_name': 'Mark',\n",
       "     'last_name': 'Kearns',\n",
       "     'permalink': 'mark-kearns'}}],\n",
       "  'competitions': [{'competitor': {'name': 'Joost', 'permalink': 'joost'}},\n",
       "   {'competitor': {'name': 'Zattoo', 'permalink': 'zattoo'}},\n",
       "   {'competitor': {'name': 'Veoh', 'permalink': 'veoh'}},\n",
       "   {'competitor': {'name': 'Vudu', 'permalink': 'vudu'}},\n",
       "   {'competitor': {'name': 'Inuk Networks', 'permalink': 'inuk-networks'}},\n",
       "   {'competitor': {'name': 'Participatory Culture Foundation',\n",
       "     'permalink': 'participatory-culture-foundation'}},\n",
       "   {'competitor': {'name': 'Next New Networks',\n",
       "     'permalink': 'next-new-networks'}}],\n",
       "  'providerships': [],\n",
       "  'total_money_raised': '$13.2M',\n",
       "  'funding_rounds': [{'id': 17,\n",
       "    'round_code': 'a',\n",
       "    'source_url': 'http://www.redherring.com/Article.aspx?a=21800&hed=Battle+of+the+Billionaires&sector=Regions&subsector=Europe',\n",
       "    'source_description': '',\n",
       "    'raised_amount': 13200000,\n",
       "    'raised_currency_code': 'USD',\n",
       "    'funded_year': 2005,\n",
       "    'funded_month': 6,\n",
       "    'funded_day': 1,\n",
       "    'investments': [{'company': None,\n",
       "      'financial_org': None,\n",
       "      'person': {'first_name': 'Silvio',\n",
       "       'last_name': 'Scaglia',\n",
       "       'permalink': 'silvio-scaglia'}}]}],\n",
       "  'investments': [],\n",
       "  'acquisition': None,\n",
       "  'acquisitions': [],\n",
       "  'offices': [{'description': '',\n",
       "    'address1': '',\n",
       "    'address2': '',\n",
       "    'zip_code': '',\n",
       "    'city': 'London',\n",
       "    'state_code': None,\n",
       "    'country_code': 'GBR',\n",
       "    'latitude': 53.344104,\n",
       "    'longitude': -6.267494}],\n",
       "  'milestones': [],\n",
       "  'ipo': None,\n",
       "  'video_embeds': [],\n",
       "  'screenshots': [],\n",
       "  'external_links': [],\n",
       "  'partners': []}]"
      ]
     },
     "execution_count": 80,
     "metadata": {},
     "output_type": "execute_result"
    }
   ],
   "source": [
    "# Your Code\n",
    "list(db.coleccion.find({\"name\":\"Babelgum\"}))"
   ]
  },
  {
   "cell_type": "markdown",
   "metadata": {},
   "source": [
    "### 2. All the companies that have more than 5000 employees. Limit the search to 20 companies and sort them by **number of employees**."
   ]
  },
  {
   "cell_type": "code",
   "execution_count": null,
   "metadata": {},
   "outputs": [],
   "source": [
    "# Your Code"
   ]
  },
  {
   "cell_type": "markdown",
   "metadata": {},
   "source": [
    "### 3. All the companies founded between 2000 and 2005, both years included. Retrieve only the `name` and `founded_year` fields."
   ]
  },
  {
   "cell_type": "code",
   "execution_count": null,
   "metadata": {},
   "outputs": [],
   "source": [
    "# Your Code"
   ]
  },
  {
   "cell_type": "markdown",
   "metadata": {},
   "source": [
    "### 4. All the companies that had a Valuation Amount of more than 100.000.000 and have been founded before 2010. Retrieve only the `name` and `ipo` fields."
   ]
  },
  {
   "cell_type": "code",
   "execution_count": null,
   "metadata": {},
   "outputs": [],
   "source": [
    "# Your Code"
   ]
  },
  {
   "cell_type": "markdown",
   "metadata": {},
   "source": [
    "### 5. All the companies that have less than 1000 employees and have been founded before 2005. Order them by the number of employees and limit the search to 10 companies."
   ]
  },
  {
   "cell_type": "code",
   "execution_count": null,
   "metadata": {},
   "outputs": [],
   "source": [
    "# Your Code"
   ]
  },
  {
   "cell_type": "markdown",
   "metadata": {},
   "source": [
    "### 6. All the companies that don't include the `partners` field."
   ]
  },
  {
   "cell_type": "code",
   "execution_count": null,
   "metadata": {},
   "outputs": [],
   "source": [
    "# Your Code"
   ]
  },
  {
   "cell_type": "markdown",
   "metadata": {},
   "source": [
    "### 7. All the companies that have a null type of value on the `category_code` field."
   ]
  },
  {
   "cell_type": "code",
   "execution_count": null,
   "metadata": {},
   "outputs": [],
   "source": [
    "# Your Code"
   ]
  },
  {
   "cell_type": "markdown",
   "metadata": {},
   "source": [
    "### 8. All the companies that have at least 100 employees but less than 1000. Retrieve only the `name` and `number of employees` fields."
   ]
  },
  {
   "cell_type": "code",
   "execution_count": null,
   "metadata": {},
   "outputs": [],
   "source": [
    "# Your Code"
   ]
  },
  {
   "cell_type": "markdown",
   "metadata": {},
   "source": [
    "### 9. Order all the companies by their IPO price in a descending order."
   ]
  },
  {
   "cell_type": "code",
   "execution_count": null,
   "metadata": {},
   "outputs": [],
   "source": [
    "# Your Code"
   ]
  },
  {
   "cell_type": "markdown",
   "metadata": {},
   "source": [
    "### 10. Retrieve the 10 companies with more employees, order by the `number of employees`"
   ]
  },
  {
   "cell_type": "code",
   "execution_count": null,
   "metadata": {},
   "outputs": [],
   "source": [
    "# Your Code"
   ]
  },
  {
   "cell_type": "markdown",
   "metadata": {},
   "source": [
    "### 11. All the companies founded on the second semester of the year. Limit your search to 1000 companies."
   ]
  },
  {
   "cell_type": "code",
   "execution_count": null,
   "metadata": {},
   "outputs": [],
   "source": [
    "# Your Code"
   ]
  },
  {
   "cell_type": "markdown",
   "metadata": {},
   "source": [
    "### 12. All the companies founded before 2000 that have an acquisition amount of more than 10.000.00"
   ]
  },
  {
   "cell_type": "code",
   "execution_count": null,
   "metadata": {},
   "outputs": [],
   "source": [
    "# Your Code"
   ]
  },
  {
   "cell_type": "markdown",
   "metadata": {},
   "source": [
    "### 13. All the companies that have been acquired after 2010, order by the acquisition amount, and retrieve only their `name` and `acquisition` field."
   ]
  },
  {
   "cell_type": "code",
   "execution_count": null,
   "metadata": {},
   "outputs": [],
   "source": [
    "# Your Code"
   ]
  },
  {
   "cell_type": "markdown",
   "metadata": {},
   "source": [
    "### 14. Order the companies by their `founded year`, retrieving only their `name` and `founded year`."
   ]
  },
  {
   "cell_type": "code",
   "execution_count": null,
   "metadata": {},
   "outputs": [],
   "source": [
    "# Your Code"
   ]
  },
  {
   "cell_type": "markdown",
   "metadata": {},
   "source": [
    "### 15. All the companies that have been founded on the first seven days of the month, including the seventh. Sort them by their `acquisition price` in a descending order. Limit the search to 10 documents."
   ]
  },
  {
   "cell_type": "code",
   "execution_count": null,
   "metadata": {},
   "outputs": [],
   "source": [
    "# Your Code"
   ]
  },
  {
   "cell_type": "markdown",
   "metadata": {},
   "source": [
    "### 16. All the companies on the 'web' `category` that have more than 4000 employees. Sort them by the amount of employees in ascending order."
   ]
  },
  {
   "cell_type": "code",
   "execution_count": null,
   "metadata": {},
   "outputs": [],
   "source": [
    "# Your Code"
   ]
  },
  {
   "cell_type": "markdown",
   "metadata": {},
   "source": [
    "### 17. All the companies whose acquisition amount is more than 10.000.000, and currency is 'EUR'."
   ]
  },
  {
   "cell_type": "code",
   "execution_count": null,
   "metadata": {},
   "outputs": [],
   "source": [
    "# Your Code"
   ]
  },
  {
   "cell_type": "markdown",
   "metadata": {},
   "source": [
    "### 18. All the companies that have been acquired on the first trimester of the year. Limit the search to 10 companies, and retrieve only their `name` and `acquisition` fields."
   ]
  },
  {
   "cell_type": "code",
   "execution_count": null,
   "metadata": {},
   "outputs": [],
   "source": [
    "# Your Code"
   ]
  },
  {
   "cell_type": "markdown",
   "metadata": {},
   "source": [
    "# Bonus\n",
    "### 19. All the companies that have been founded between 2000 and 2010, but have not been acquired before 2011."
   ]
  },
  {
   "cell_type": "code",
   "execution_count": null,
   "metadata": {},
   "outputs": [],
   "source": [
    "# Your Code"
   ]
  },
  {
   "cell_type": "markdown",
   "metadata": {},
   "source": [
    "### 20. All the companies that have been 'deadpooled' after the third year."
   ]
  },
  {
   "cell_type": "code",
   "execution_count": null,
   "metadata": {},
   "outputs": [],
   "source": [
    "# Your Code"
   ]
  }
 ],
 "metadata": {
  "kernelspec": {
   "display_name": "Python 3.9.13 ('iron')",
   "language": "python",
   "name": "python3"
  },
  "language_info": {
   "codemirror_mode": {
    "name": "ipython",
    "version": 3
   },
   "file_extension": ".py",
   "mimetype": "text/x-python",
   "name": "python",
   "nbconvert_exporter": "python",
   "pygments_lexer": "ipython3",
   "version": "3.9.13"
  },
  "vscode": {
   "interpreter": {
    "hash": "e59d0b279e6461be5b4ea7b62838527cd8f41f3cbc9a1147b1a83b32d75ab689"
   }
  }
 },
 "nbformat": 4,
 "nbformat_minor": 2
}
