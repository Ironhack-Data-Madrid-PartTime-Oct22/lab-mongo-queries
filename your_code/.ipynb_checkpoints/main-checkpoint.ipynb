{
 "cells": [
  {
   "cell_type": "markdown",
   "metadata": {},
   "source": [
    "# Advanced Querying Mongo"
   ]
  },
  {
   "cell_type": "markdown",
   "metadata": {},
   "source": [
    "Importing libraries and setting up connection"
   ]
  },
  {
   "cell_type": "code",
   "execution_count": 163,
   "metadata": {},
   "outputs": [],
   "source": [
    "from pymongo import MongoClient\n",
    "import numpy as np\n",
    "import pymongo\n",
    "import pandas as pd\n",
    "datos = pymongo.MongoClient()\n"
   ]
  },
  {
   "cell_type": "code",
   "execution_count": 164,
   "metadata": {},
   "outputs": [],
   "source": [
    "pd.options.display.max_columns = None\n"
   ]
  },
  {
   "cell_type": "code",
   "execution_count": 165,
   "metadata": {},
   "outputs": [],
   "source": [
    "datos = mydb.detalles"
   ]
  },
  {
   "cell_type": "code",
   "execution_count": 166,
   "metadata": {},
   "outputs": [
    {
     "ename": "TypeError",
     "evalue": "'Collection' object is not callable. If you meant to call the 'list_database_names' method on a 'Collection' object it is failing because no such method exists.",
     "output_type": "error",
     "traceback": [
      "\u001b[1;31m---------------------------------------------------------------------------\u001b[0m",
      "\u001b[1;31mTypeError\u001b[0m                                 Traceback (most recent call last)",
      "Cell \u001b[1;32mIn [166], line 1\u001b[0m\n\u001b[1;32m----> 1\u001b[0m \u001b[43mdatos\u001b[49m\u001b[38;5;241;43m.\u001b[39;49m\u001b[43mlist_database_names\u001b[49m\u001b[43m(\u001b[49m\u001b[43m)\u001b[49m\n",
      "File \u001b[1;32m~\\anaconda3\\envs\\IRONHACK2022\\lib\\site-packages\\pymongo\\collection.py:3213\u001b[0m, in \u001b[0;36mCollection.__call__\u001b[1;34m(self, *args, **kwargs)\u001b[0m\n\u001b[0;32m   3206\u001b[0m \u001b[38;5;28;01mif\u001b[39;00m \u001b[38;5;124m\"\u001b[39m\u001b[38;5;124m.\u001b[39m\u001b[38;5;124m\"\u001b[39m \u001b[38;5;129;01mnot\u001b[39;00m \u001b[38;5;129;01min\u001b[39;00m \u001b[38;5;28mself\u001b[39m\u001b[38;5;241m.\u001b[39m__name:\n\u001b[0;32m   3207\u001b[0m     \u001b[38;5;28;01mraise\u001b[39;00m \u001b[38;5;167;01mTypeError\u001b[39;00m(\n\u001b[0;32m   3208\u001b[0m         \u001b[38;5;124m\"\u001b[39m\u001b[38;5;124m'\u001b[39m\u001b[38;5;124mCollection\u001b[39m\u001b[38;5;124m'\u001b[39m\u001b[38;5;124m object is not callable. If you \u001b[39m\u001b[38;5;124m\"\u001b[39m\n\u001b[0;32m   3209\u001b[0m         \u001b[38;5;124m\"\u001b[39m\u001b[38;5;124mmeant to call the \u001b[39m\u001b[38;5;124m'\u001b[39m\u001b[38;5;132;01m%s\u001b[39;00m\u001b[38;5;124m'\u001b[39m\u001b[38;5;124m method on a \u001b[39m\u001b[38;5;124m'\u001b[39m\u001b[38;5;124mDatabase\u001b[39m\u001b[38;5;124m'\u001b[39m\u001b[38;5;124m \u001b[39m\u001b[38;5;124m\"\u001b[39m\n\u001b[0;32m   3210\u001b[0m         \u001b[38;5;124m\"\u001b[39m\u001b[38;5;124mobject it is failing because no such method \u001b[39m\u001b[38;5;124m\"\u001b[39m\n\u001b[0;32m   3211\u001b[0m         \u001b[38;5;124m\"\u001b[39m\u001b[38;5;124mexists.\u001b[39m\u001b[38;5;124m\"\u001b[39m \u001b[38;5;241m%\u001b[39m \u001b[38;5;28mself\u001b[39m\u001b[38;5;241m.\u001b[39m__name\n\u001b[0;32m   3212\u001b[0m     )\n\u001b[1;32m-> 3213\u001b[0m \u001b[38;5;28;01mraise\u001b[39;00m \u001b[38;5;167;01mTypeError\u001b[39;00m(\n\u001b[0;32m   3214\u001b[0m     \u001b[38;5;124m\"\u001b[39m\u001b[38;5;124m'\u001b[39m\u001b[38;5;124mCollection\u001b[39m\u001b[38;5;124m'\u001b[39m\u001b[38;5;124m object is not callable. If you meant to \u001b[39m\u001b[38;5;124m\"\u001b[39m\n\u001b[0;32m   3215\u001b[0m     \u001b[38;5;124m\"\u001b[39m\u001b[38;5;124mcall the \u001b[39m\u001b[38;5;124m'\u001b[39m\u001b[38;5;132;01m%s\u001b[39;00m\u001b[38;5;124m'\u001b[39m\u001b[38;5;124m method on a \u001b[39m\u001b[38;5;124m'\u001b[39m\u001b[38;5;124mCollection\u001b[39m\u001b[38;5;124m'\u001b[39m\u001b[38;5;124m object it is \u001b[39m\u001b[38;5;124m\"\u001b[39m\n\u001b[0;32m   3216\u001b[0m     \u001b[38;5;124m\"\u001b[39m\u001b[38;5;124mfailing because no such method exists.\u001b[39m\u001b[38;5;124m\"\u001b[39m \u001b[38;5;241m%\u001b[39m \u001b[38;5;28mself\u001b[39m\u001b[38;5;241m.\u001b[39m__name\u001b[38;5;241m.\u001b[39msplit(\u001b[38;5;124m\"\u001b[39m\u001b[38;5;124m.\u001b[39m\u001b[38;5;124m\"\u001b[39m)[\u001b[38;5;241m-\u001b[39m\u001b[38;5;241m1\u001b[39m]\n\u001b[0;32m   3217\u001b[0m )\n",
      "\u001b[1;31mTypeError\u001b[0m: 'Collection' object is not callable. If you meant to call the 'list_database_names' method on a 'Collection' object it is failing because no such method exists."
     ]
    }
   ],
   "source": [
    "datos.list_database_names()\n"
   ]
  },
  {
   "cell_type": "code",
   "execution_count": 167,
   "metadata": {},
   "outputs": [],
   "source": [
    "df = pd.read_json(\"../companies.json\", lines=True)\n"
   ]
  },
  {
   "cell_type": "code",
   "execution_count": 168,
   "metadata": {},
   "outputs": [
    {
     "data": {
      "text/html": [
       "<div>\n",
       "<style scoped>\n",
       "    .dataframe tbody tr th:only-of-type {\n",
       "        vertical-align: middle;\n",
       "    }\n",
       "\n",
       "    .dataframe tbody tr th {\n",
       "        vertical-align: top;\n",
       "    }\n",
       "\n",
       "    .dataframe thead th {\n",
       "        text-align: right;\n",
       "    }\n",
       "</style>\n",
       "<table border=\"1\" class=\"dataframe\">\n",
       "  <thead>\n",
       "    <tr style=\"text-align: right;\">\n",
       "      <th></th>\n",
       "      <th>_id</th>\n",
       "      <th>name</th>\n",
       "      <th>permalink</th>\n",
       "      <th>crunchbase_url</th>\n",
       "      <th>homepage_url</th>\n",
       "      <th>blog_url</th>\n",
       "      <th>blog_feed_url</th>\n",
       "      <th>twitter_username</th>\n",
       "      <th>category_code</th>\n",
       "      <th>number_of_employees</th>\n",
       "      <th>founded_year</th>\n",
       "      <th>founded_month</th>\n",
       "      <th>founded_day</th>\n",
       "      <th>deadpooled_year</th>\n",
       "      <th>tag_list</th>\n",
       "      <th>alias_list</th>\n",
       "      <th>email_address</th>\n",
       "      <th>phone_number</th>\n",
       "      <th>description</th>\n",
       "      <th>created_at</th>\n",
       "      <th>updated_at</th>\n",
       "      <th>overview</th>\n",
       "      <th>image</th>\n",
       "      <th>products</th>\n",
       "      <th>relationships</th>\n",
       "      <th>competitions</th>\n",
       "      <th>providerships</th>\n",
       "      <th>total_money_raised</th>\n",
       "      <th>funding_rounds</th>\n",
       "      <th>investments</th>\n",
       "      <th>acquisition</th>\n",
       "      <th>acquisitions</th>\n",
       "      <th>offices</th>\n",
       "      <th>milestones</th>\n",
       "      <th>video_embeds</th>\n",
       "      <th>screenshots</th>\n",
       "      <th>external_links</th>\n",
       "      <th>partners</th>\n",
       "      <th>deadpooled_month</th>\n",
       "      <th>deadpooled_day</th>\n",
       "      <th>deadpooled_url</th>\n",
       "      <th>ipo</th>\n",
       "    </tr>\n",
       "  </thead>\n",
       "  <tbody>\n",
       "    <tr>\n",
       "      <th>0</th>\n",
       "      <td>{'$oid': '52cdef7c4bab8bd675297d8a'}</td>\n",
       "      <td>Wetpaint</td>\n",
       "      <td>abc2</td>\n",
       "      <td>http://www.crunchbase.com/company/wetpaint</td>\n",
       "      <td>http://wetpaint-inc.com</td>\n",
       "      <td>http://digitalquarters.net/</td>\n",
       "      <td>http://digitalquarters.net/feed/</td>\n",
       "      <td>BachelrWetpaint</td>\n",
       "      <td>web</td>\n",
       "      <td>47.0</td>\n",
       "      <td>2005.0</td>\n",
       "      <td>10.0</td>\n",
       "      <td>17.0</td>\n",
       "      <td>1.0</td>\n",
       "      <td>wiki, seattle, elowitz, media-industry, media-...</td>\n",
       "      <td></td>\n",
       "      <td>info@wetpaint.com</td>\n",
       "      <td>206.859.6300</td>\n",
       "      <td>Technology Platform Company</td>\n",
       "      <td>{'$date': 1180075887000}</td>\n",
       "      <td>2013-12-08 07:15:44+00:00</td>\n",
       "      <td>&lt;p&gt;Wetpaint is a technology platform company t...</td>\n",
       "      <td>{'available_sizes': [[[150, 75], 'assets/image...</td>\n",
       "      <td>[{'name': 'Wikison Wetpaint', 'permalink': 'we...</td>\n",
       "      <td>[{'is_past': False, 'title': 'Co-Founder and V...</td>\n",
       "      <td>[{'competitor': {'name': 'Wikia', 'permalink':...</td>\n",
       "      <td>[]</td>\n",
       "      <td>$39.8M</td>\n",
       "      <td>[{'id': 888, 'round_code': 'a', 'source_url': ...</td>\n",
       "      <td>[]</td>\n",
       "      <td>{'price_amount': 30000000, 'price_currency_cod...</td>\n",
       "      <td>[]</td>\n",
       "      <td>[{'description': '', 'address1': '710 - 2nd Av...</td>\n",
       "      <td>[{'id': 5869, 'description': 'Wetpaint named i...</td>\n",
       "      <td>[]</td>\n",
       "      <td>[{'available_sizes': [[[150, 86], 'assets/imag...</td>\n",
       "      <td>[{'external_url': 'http://www.geekwire.com/201...</td>\n",
       "      <td>[]</td>\n",
       "      <td>NaN</td>\n",
       "      <td>NaN</td>\n",
       "      <td>NaN</td>\n",
       "      <td>NaN</td>\n",
       "    </tr>\n",
       "    <tr>\n",
       "      <th>1</th>\n",
       "      <td>{'$oid': '52cdef7c4bab8bd675297d8b'}</td>\n",
       "      <td>AdventNet</td>\n",
       "      <td>abc3</td>\n",
       "      <td>http://www.crunchbase.com/company/adventnet</td>\n",
       "      <td>http://adventnet.com</td>\n",
       "      <td></td>\n",
       "      <td></td>\n",
       "      <td>manageengine</td>\n",
       "      <td>enterprise</td>\n",
       "      <td>600.0</td>\n",
       "      <td>1996.0</td>\n",
       "      <td>NaN</td>\n",
       "      <td>NaN</td>\n",
       "      <td>2.0</td>\n",
       "      <td></td>\n",
       "      <td>Zoho ManageEngine</td>\n",
       "      <td>pr@adventnet.com</td>\n",
       "      <td>925-924-9500</td>\n",
       "      <td>Server Management Software</td>\n",
       "      <td>{'$date': 1180121062000}</td>\n",
       "      <td>2012-10-31 18:26:09+00:00</td>\n",
       "      <td>&lt;p&gt;AdventNet is now &lt;a href=\"/company/zoho-man...</td>\n",
       "      <td>{'available_sizes': [[[150, 55], 'assets/image...</td>\n",
       "      <td>[]</td>\n",
       "      <td>[{'is_past': True, 'title': 'CEO and Co-Founde...</td>\n",
       "      <td>[]</td>\n",
       "      <td>[{'title': 'DHFH', 'is_past': True, 'provider'...</td>\n",
       "      <td>$0</td>\n",
       "      <td>[]</td>\n",
       "      <td>[]</td>\n",
       "      <td>None</td>\n",
       "      <td>[]</td>\n",
       "      <td>[{'description': 'Headquarters', 'address1': '...</td>\n",
       "      <td>[]</td>\n",
       "      <td>[]</td>\n",
       "      <td>[{'available_sizes': [[[150, 94], 'assets/imag...</td>\n",
       "      <td>[]</td>\n",
       "      <td>[]</td>\n",
       "      <td>NaN</td>\n",
       "      <td>NaN</td>\n",
       "      <td>NaN</td>\n",
       "      <td>NaN</td>\n",
       "    </tr>\n",
       "    <tr>\n",
       "      <th>2</th>\n",
       "      <td>{'$oid': '52cdef7c4bab8bd675297d8c'}</td>\n",
       "      <td>Zoho</td>\n",
       "      <td>abc4</td>\n",
       "      <td>http://www.crunchbase.com/company/zoho</td>\n",
       "      <td>http://zoho.com</td>\n",
       "      <td>http://blogs.zoho.com/</td>\n",
       "      <td>http://blogs.zoho.com/feed</td>\n",
       "      <td>zoho</td>\n",
       "      <td>software</td>\n",
       "      <td>1600.0</td>\n",
       "      <td>2005.0</td>\n",
       "      <td>9.0</td>\n",
       "      <td>15.0</td>\n",
       "      <td>3.0</td>\n",
       "      <td>zoho, officesuite, spreadsheet, writer, projec...</td>\n",
       "      <td></td>\n",
       "      <td>info@zohocorp.com</td>\n",
       "      <td>1-888-204-3539</td>\n",
       "      <td>Online Business Apps Suite</td>\n",
       "      <td>Fri May 25 19:30:28 UTC 2007</td>\n",
       "      <td>2013-10-30 00:07:05+00:00</td>\n",
       "      <td>&lt;p&gt;Zoho offers a suite of Business, Collaborat...</td>\n",
       "      <td>{'available_sizes': [[[150, 55], 'assets/image...</td>\n",
       "      <td>[{'name': 'Zoho Office Suite', 'permalink': 'z...</td>\n",
       "      <td>[{'is_past': False, 'title': 'CEO and Founder'...</td>\n",
       "      <td>[{'competitor': {'name': 'Empressr', 'permalin...</td>\n",
       "      <td>[]</td>\n",
       "      <td>$0</td>\n",
       "      <td>[]</td>\n",
       "      <td>[]</td>\n",
       "      <td>None</td>\n",
       "      <td>[]</td>\n",
       "      <td>[{'description': 'Headquarters', 'address1': '...</td>\n",
       "      <td>[{'id': 388, 'description': 'Zoho Reaches 2 Mi...</td>\n",
       "      <td>[{'embed_code': '&lt;object width=\"430\" height=\"2...</td>\n",
       "      <td>[]</td>\n",
       "      <td>[{'external_url': 'http://www.online-tech-tips...</td>\n",
       "      <td>[]</td>\n",
       "      <td>NaN</td>\n",
       "      <td>NaN</td>\n",
       "      <td>NaN</td>\n",
       "      <td>NaN</td>\n",
       "    </tr>\n",
       "    <tr>\n",
       "      <th>3</th>\n",
       "      <td>{'$oid': '52cdef7c4bab8bd675297d8d'}</td>\n",
       "      <td>Digg</td>\n",
       "      <td>digg</td>\n",
       "      <td>http://www.crunchbase.com/company/digg</td>\n",
       "      <td>http://www.digg.com</td>\n",
       "      <td>http://blog.digg.com/</td>\n",
       "      <td>http://blog.digg.com/?feed=rss2</td>\n",
       "      <td>digg</td>\n",
       "      <td>news</td>\n",
       "      <td>60.0</td>\n",
       "      <td>2004.0</td>\n",
       "      <td>10.0</td>\n",
       "      <td>11.0</td>\n",
       "      <td>NaN</td>\n",
       "      <td>community, social, news, bookmark, digg, techn...</td>\n",
       "      <td></td>\n",
       "      <td>feedback@digg.com</td>\n",
       "      <td>(415) 436-9638</td>\n",
       "      <td>user driven social content website</td>\n",
       "      <td>Fri May 25 20:03:23 UTC 2007</td>\n",
       "      <td>2013-11-05 21:35:47+00:00</td>\n",
       "      <td>&lt;p&gt;Digg is a user driven social content websit...</td>\n",
       "      <td>{'available_sizes': [[[150, 150], 'assets/imag...</td>\n",
       "      <td>[{'name': 'Digg', 'permalink': 'digg'}]</td>\n",
       "      <td>[{'is_past': False, 'title': 'CEO', 'person': ...</td>\n",
       "      <td>[{'competitor': {'name': 'Reddit', 'permalink'...</td>\n",
       "      <td>[{'title': 'Public Relations', 'is_past': True...</td>\n",
       "      <td>$45M</td>\n",
       "      <td>[{'id': 1, 'round_code': 'b', 'source_url': 'h...</td>\n",
       "      <td>[]</td>\n",
       "      <td>{'price_amount': 500000, 'price_currency_code'...</td>\n",
       "      <td>[{'price_amount': None, 'price_currency_code':...</td>\n",
       "      <td>[{'description': None, 'address1': '135 Missis...</td>\n",
       "      <td>[{'id': 9588, 'description': 'Another Digg Exe...</td>\n",
       "      <td>[{'embed_code': '&lt;embed src=\"http://blip.tv/pl...</td>\n",
       "      <td>[{'available_sizes': [[[117, 150], 'assets/ima...</td>\n",
       "      <td>[{'external_url': 'http://www.sociableblog.com...</td>\n",
       "      <td>[]</td>\n",
       "      <td>NaN</td>\n",
       "      <td>NaN</td>\n",
       "      <td>None</td>\n",
       "      <td>None</td>\n",
       "    </tr>\n",
       "    <tr>\n",
       "      <th>4</th>\n",
       "      <td>{'$oid': '52cdef7c4bab8bd675297d8e'}</td>\n",
       "      <td>Facebook</td>\n",
       "      <td>facebook</td>\n",
       "      <td>http://www.crunchbase.com/company/facebook</td>\n",
       "      <td>http://facebook.com</td>\n",
       "      <td>http://blog.facebook.com</td>\n",
       "      <td>http://blog.facebook.com/atom.php</td>\n",
       "      <td>facebook</td>\n",
       "      <td>social</td>\n",
       "      <td>5299.0</td>\n",
       "      <td>2004.0</td>\n",
       "      <td>2.0</td>\n",
       "      <td>1.0</td>\n",
       "      <td>NaN</td>\n",
       "      <td>facebook, college, students, profiles, network...</td>\n",
       "      <td></td>\n",
       "      <td></td>\n",
       "      <td></td>\n",
       "      <td>Social network</td>\n",
       "      <td>Fri May 25 21:22:15 UTC 2007</td>\n",
       "      <td>2013-11-21 19:40:55+00:00</td>\n",
       "      <td>&lt;p&gt;Facebook is the world&amp;#8217;s largest socia...</td>\n",
       "      <td>{'available_sizes': [[[150, 61], 'assets/image...</td>\n",
       "      <td>[{'name': 'Facebook Platform', 'permalink': 'f...</td>\n",
       "      <td>[{'is_past': False, 'title': 'Founder and CEO,...</td>\n",
       "      <td>[{'competitor': {'name': 'MySpace', 'permalink...</td>\n",
       "      <td>[{'title': '', 'is_past': False, 'provider': {...</td>\n",
       "      <td>$2.43B</td>\n",
       "      <td>[{'id': 2, 'round_code': 'angel', 'source_url'...</td>\n",
       "      <td>[{'funding_round': {'round_code': 'seed', 'sou...</td>\n",
       "      <td>None</td>\n",
       "      <td>[{'price_amount': None, 'price_currency_code':...</td>\n",
       "      <td>[{'description': 'Headquarters', 'address1': '...</td>\n",
       "      <td>[{'id': 108, 'description': 'Facebook adds com...</td>\n",
       "      <td>[]</td>\n",
       "      <td>[{'available_sizes': [[[150, 68], 'assets/imag...</td>\n",
       "      <td>[{'external_url': 'http://latimesblogs.latimes...</td>\n",
       "      <td>[]</td>\n",
       "      <td>NaN</td>\n",
       "      <td>NaN</td>\n",
       "      <td></td>\n",
       "      <td>{'valuation_amount': 104000000000, 'valuation_...</td>\n",
       "    </tr>\n",
       "  </tbody>\n",
       "</table>\n",
       "</div>"
      ],
      "text/plain": [
       "                                    _id       name permalink  \\\n",
       "0  {'$oid': '52cdef7c4bab8bd675297d8a'}   Wetpaint      abc2   \n",
       "1  {'$oid': '52cdef7c4bab8bd675297d8b'}  AdventNet      abc3   \n",
       "2  {'$oid': '52cdef7c4bab8bd675297d8c'}       Zoho      abc4   \n",
       "3  {'$oid': '52cdef7c4bab8bd675297d8d'}       Digg      digg   \n",
       "4  {'$oid': '52cdef7c4bab8bd675297d8e'}   Facebook  facebook   \n",
       "\n",
       "                                crunchbase_url             homepage_url  \\\n",
       "0   http://www.crunchbase.com/company/wetpaint  http://wetpaint-inc.com   \n",
       "1  http://www.crunchbase.com/company/adventnet     http://adventnet.com   \n",
       "2       http://www.crunchbase.com/company/zoho          http://zoho.com   \n",
       "3       http://www.crunchbase.com/company/digg      http://www.digg.com   \n",
       "4   http://www.crunchbase.com/company/facebook      http://facebook.com   \n",
       "\n",
       "                      blog_url                      blog_feed_url  \\\n",
       "0  http://digitalquarters.net/   http://digitalquarters.net/feed/   \n",
       "1                                                                   \n",
       "2       http://blogs.zoho.com/         http://blogs.zoho.com/feed   \n",
       "3        http://blog.digg.com/    http://blog.digg.com/?feed=rss2   \n",
       "4     http://blog.facebook.com  http://blog.facebook.com/atom.php   \n",
       "\n",
       "  twitter_username category_code  number_of_employees  founded_year  \\\n",
       "0  BachelrWetpaint           web                 47.0        2005.0   \n",
       "1     manageengine    enterprise                600.0        1996.0   \n",
       "2             zoho      software               1600.0        2005.0   \n",
       "3             digg          news                 60.0        2004.0   \n",
       "4         facebook        social               5299.0        2004.0   \n",
       "\n",
       "   founded_month  founded_day  deadpooled_year  \\\n",
       "0           10.0         17.0              1.0   \n",
       "1            NaN          NaN              2.0   \n",
       "2            9.0         15.0              3.0   \n",
       "3           10.0         11.0              NaN   \n",
       "4            2.0          1.0              NaN   \n",
       "\n",
       "                                            tag_list          alias_list  \\\n",
       "0  wiki, seattle, elowitz, media-industry, media-...                       \n",
       "1                                                     Zoho ManageEngine    \n",
       "2  zoho, officesuite, spreadsheet, writer, projec...                       \n",
       "3  community, social, news, bookmark, digg, techn...                       \n",
       "4  facebook, college, students, profiles, network...                       \n",
       "\n",
       "       email_address    phone_number                         description  \\\n",
       "0  info@wetpaint.com    206.859.6300         Technology Platform Company   \n",
       "1   pr@adventnet.com    925-924-9500          Server Management Software   \n",
       "2  info@zohocorp.com  1-888-204-3539          Online Business Apps Suite   \n",
       "3  feedback@digg.com  (415) 436-9638  user driven social content website   \n",
       "4                                                         Social network   \n",
       "\n",
       "                     created_at                updated_at  \\\n",
       "0      {'$date': 1180075887000} 2013-12-08 07:15:44+00:00   \n",
       "1      {'$date': 1180121062000} 2012-10-31 18:26:09+00:00   \n",
       "2  Fri May 25 19:30:28 UTC 2007 2013-10-30 00:07:05+00:00   \n",
       "3  Fri May 25 20:03:23 UTC 2007 2013-11-05 21:35:47+00:00   \n",
       "4  Fri May 25 21:22:15 UTC 2007 2013-11-21 19:40:55+00:00   \n",
       "\n",
       "                                            overview  \\\n",
       "0  <p>Wetpaint is a technology platform company t...   \n",
       "1  <p>AdventNet is now <a href=\"/company/zoho-man...   \n",
       "2  <p>Zoho offers a suite of Business, Collaborat...   \n",
       "3  <p>Digg is a user driven social content websit...   \n",
       "4  <p>Facebook is the world&#8217;s largest socia...   \n",
       "\n",
       "                                               image  \\\n",
       "0  {'available_sizes': [[[150, 75], 'assets/image...   \n",
       "1  {'available_sizes': [[[150, 55], 'assets/image...   \n",
       "2  {'available_sizes': [[[150, 55], 'assets/image...   \n",
       "3  {'available_sizes': [[[150, 150], 'assets/imag...   \n",
       "4  {'available_sizes': [[[150, 61], 'assets/image...   \n",
       "\n",
       "                                            products  \\\n",
       "0  [{'name': 'Wikison Wetpaint', 'permalink': 'we...   \n",
       "1                                                 []   \n",
       "2  [{'name': 'Zoho Office Suite', 'permalink': 'z...   \n",
       "3            [{'name': 'Digg', 'permalink': 'digg'}]   \n",
       "4  [{'name': 'Facebook Platform', 'permalink': 'f...   \n",
       "\n",
       "                                       relationships  \\\n",
       "0  [{'is_past': False, 'title': 'Co-Founder and V...   \n",
       "1  [{'is_past': True, 'title': 'CEO and Co-Founde...   \n",
       "2  [{'is_past': False, 'title': 'CEO and Founder'...   \n",
       "3  [{'is_past': False, 'title': 'CEO', 'person': ...   \n",
       "4  [{'is_past': False, 'title': 'Founder and CEO,...   \n",
       "\n",
       "                                        competitions  \\\n",
       "0  [{'competitor': {'name': 'Wikia', 'permalink':...   \n",
       "1                                                 []   \n",
       "2  [{'competitor': {'name': 'Empressr', 'permalin...   \n",
       "3  [{'competitor': {'name': 'Reddit', 'permalink'...   \n",
       "4  [{'competitor': {'name': 'MySpace', 'permalink...   \n",
       "\n",
       "                                       providerships total_money_raised  \\\n",
       "0                                                 []             $39.8M   \n",
       "1  [{'title': 'DHFH', 'is_past': True, 'provider'...                 $0   \n",
       "2                                                 []                 $0   \n",
       "3  [{'title': 'Public Relations', 'is_past': True...               $45M   \n",
       "4  [{'title': '', 'is_past': False, 'provider': {...             $2.43B   \n",
       "\n",
       "                                      funding_rounds  \\\n",
       "0  [{'id': 888, 'round_code': 'a', 'source_url': ...   \n",
       "1                                                 []   \n",
       "2                                                 []   \n",
       "3  [{'id': 1, 'round_code': 'b', 'source_url': 'h...   \n",
       "4  [{'id': 2, 'round_code': 'angel', 'source_url'...   \n",
       "\n",
       "                                         investments  \\\n",
       "0                                                 []   \n",
       "1                                                 []   \n",
       "2                                                 []   \n",
       "3                                                 []   \n",
       "4  [{'funding_round': {'round_code': 'seed', 'sou...   \n",
       "\n",
       "                                         acquisition  \\\n",
       "0  {'price_amount': 30000000, 'price_currency_cod...   \n",
       "1                                               None   \n",
       "2                                               None   \n",
       "3  {'price_amount': 500000, 'price_currency_code'...   \n",
       "4                                               None   \n",
       "\n",
       "                                        acquisitions  \\\n",
       "0                                                 []   \n",
       "1                                                 []   \n",
       "2                                                 []   \n",
       "3  [{'price_amount': None, 'price_currency_code':...   \n",
       "4  [{'price_amount': None, 'price_currency_code':...   \n",
       "\n",
       "                                             offices  \\\n",
       "0  [{'description': '', 'address1': '710 - 2nd Av...   \n",
       "1  [{'description': 'Headquarters', 'address1': '...   \n",
       "2  [{'description': 'Headquarters', 'address1': '...   \n",
       "3  [{'description': None, 'address1': '135 Missis...   \n",
       "4  [{'description': 'Headquarters', 'address1': '...   \n",
       "\n",
       "                                          milestones  \\\n",
       "0  [{'id': 5869, 'description': 'Wetpaint named i...   \n",
       "1                                                 []   \n",
       "2  [{'id': 388, 'description': 'Zoho Reaches 2 Mi...   \n",
       "3  [{'id': 9588, 'description': 'Another Digg Exe...   \n",
       "4  [{'id': 108, 'description': 'Facebook adds com...   \n",
       "\n",
       "                                        video_embeds  \\\n",
       "0                                                 []   \n",
       "1                                                 []   \n",
       "2  [{'embed_code': '<object width=\"430\" height=\"2...   \n",
       "3  [{'embed_code': '<embed src=\"http://blip.tv/pl...   \n",
       "4                                                 []   \n",
       "\n",
       "                                         screenshots  \\\n",
       "0  [{'available_sizes': [[[150, 86], 'assets/imag...   \n",
       "1  [{'available_sizes': [[[150, 94], 'assets/imag...   \n",
       "2                                                 []   \n",
       "3  [{'available_sizes': [[[117, 150], 'assets/ima...   \n",
       "4  [{'available_sizes': [[[150, 68], 'assets/imag...   \n",
       "\n",
       "                                      external_links partners  \\\n",
       "0  [{'external_url': 'http://www.geekwire.com/201...       []   \n",
       "1                                                 []       []   \n",
       "2  [{'external_url': 'http://www.online-tech-tips...       []   \n",
       "3  [{'external_url': 'http://www.sociableblog.com...       []   \n",
       "4  [{'external_url': 'http://latimesblogs.latimes...       []   \n",
       "\n",
       "   deadpooled_month  deadpooled_day deadpooled_url  \\\n",
       "0               NaN             NaN            NaN   \n",
       "1               NaN             NaN            NaN   \n",
       "2               NaN             NaN            NaN   \n",
       "3               NaN             NaN           None   \n",
       "4               NaN             NaN                  \n",
       "\n",
       "                                                 ipo  \n",
       "0                                                NaN  \n",
       "1                                                NaN  \n",
       "2                                                NaN  \n",
       "3                                               None  \n",
       "4  {'valuation_amount': 104000000000, 'valuation_...  "
      ]
     },
     "execution_count": 168,
     "metadata": {},
     "output_type": "execute_result"
    }
   ],
   "source": [
    "df.head()"
   ]
  },
  {
   "cell_type": "markdown",
   "metadata": {},
   "source": [
    "### 1. All the companies whose name match 'Babelgum'. Retrieve only their `name` field."
   ]
  },
  {
   "cell_type": "code",
   "execution_count": 170,
   "metadata": {},
   "outputs": [
    {
     "data": {
      "text/plain": [
       "[]"
      ]
     },
     "execution_count": 170,
     "metadata": {},
     "output_type": "execute_result"
    }
   ],
   "source": [
    "babelgum = list(datos.find({\"name\":\"Babelgum\"}))[:2]\n",
    "\n",
    "babelgum\n"
   ]
  },
  {
   "cell_type": "markdown",
   "metadata": {},
   "source": [
    "### 2. All the companies that have more than 5000 employees. Limit the search to 20 companies and sort them by **number of employees**."
   ]
  },
  {
   "cell_type": "code",
   "execution_count": 171,
   "metadata": {},
   "outputs": [
    {
     "data": {
      "text/html": [
       "<div>\n",
       "<style scoped>\n",
       "    .dataframe tbody tr th:only-of-type {\n",
       "        vertical-align: middle;\n",
       "    }\n",
       "\n",
       "    .dataframe tbody tr th {\n",
       "        vertical-align: top;\n",
       "    }\n",
       "\n",
       "    .dataframe thead th {\n",
       "        text-align: right;\n",
       "    }\n",
       "</style>\n",
       "<table border=\"1\" class=\"dataframe\">\n",
       "  <thead>\n",
       "    <tr style=\"text-align: right;\">\n",
       "      <th></th>\n",
       "    </tr>\n",
       "  </thead>\n",
       "  <tbody>\n",
       "  </tbody>\n",
       "</table>\n",
       "</div>"
      ],
      "text/plain": [
       "Empty DataFrame\n",
       "Columns: []\n",
       "Index: []"
      ]
     },
     "execution_count": 171,
     "metadata": {},
     "output_type": "execute_result"
    }
   ],
   "source": [
    "empleados = pd.DataFrame(list(datos.find({\"number_of_employees\":{\"$gt\": 5000}}).sort(\"number_of_employees\", -1)[:20]))\n",
    "empleados\n"
   ]
  },
  {
   "cell_type": "markdown",
   "metadata": {},
   "source": [
    "### 3. All the companies founded between 2000 and 2005, both years included. Retrieve only the `name` and `founded_year` fields."
   ]
  },
  {
   "cell_type": "code",
   "execution_count": 172,
   "metadata": {},
   "outputs": [
    {
     "data": {
      "text/html": [
       "<div>\n",
       "<style scoped>\n",
       "    .dataframe tbody tr th:only-of-type {\n",
       "        vertical-align: middle;\n",
       "    }\n",
       "\n",
       "    .dataframe tbody tr th {\n",
       "        vertical-align: top;\n",
       "    }\n",
       "\n",
       "    .dataframe thead th {\n",
       "        text-align: right;\n",
       "    }\n",
       "</style>\n",
       "<table border=\"1\" class=\"dataframe\">\n",
       "  <thead>\n",
       "    <tr style=\"text-align: right;\">\n",
       "      <th></th>\n",
       "    </tr>\n",
       "  </thead>\n",
       "  <tbody>\n",
       "  </tbody>\n",
       "</table>\n",
       "</div>"
      ],
      "text/plain": [
       "Empty DataFrame\n",
       "Columns: []\n",
       "Index: []"
      ]
     },
     "execution_count": 172,
     "metadata": {},
     "output_type": "execute_result"
    }
   ],
   "source": [
    "condicc1 = {\"founded_year\":{\"$gte\": 2000}}\n",
    "condicc2 = {\"founded_year\":{\"$lte\": 2005}}\n",
    "years = pd.DataFrame(list(datos.find({\"$and\":[cond1, cond2]}, {\"name\":1,\"founded_year\":1,\"_id\":0})))\n",
    "years.head()"
   ]
  },
  {
   "cell_type": "markdown",
   "metadata": {},
   "source": [
    "### 4. All the companies that had a Valuation Amount of more than 100.000.000 and have been founded before 2010. Retrieve only the `name` and `ipo` fields."
   ]
  },
  {
   "cell_type": "code",
   "execution_count": 173,
   "metadata": {},
   "outputs": [
    {
     "data": {
      "text/html": [
       "<div>\n",
       "<style scoped>\n",
       "    .dataframe tbody tr th:only-of-type {\n",
       "        vertical-align: middle;\n",
       "    }\n",
       "\n",
       "    .dataframe tbody tr th {\n",
       "        vertical-align: top;\n",
       "    }\n",
       "\n",
       "    .dataframe thead th {\n",
       "        text-align: right;\n",
       "    }\n",
       "</style>\n",
       "<table border=\"1\" class=\"dataframe\">\n",
       "  <thead>\n",
       "    <tr style=\"text-align: right;\">\n",
       "      <th></th>\n",
       "    </tr>\n",
       "  </thead>\n",
       "  <tbody>\n",
       "  </tbody>\n",
       "</table>\n",
       "</div>"
      ],
      "text/plain": [
       "Empty DataFrame\n",
       "Columns: []\n",
       "Index: []"
      ]
     },
     "execution_count": 173,
     "metadata": {},
     "output_type": "execute_result"
    }
   ],
   "source": [
    "cond1 = {\"founded_year\":{\"$lt\": 2010}}\n",
    "cond2 = {\"ipo.valuation_amount\":{\"$gt\": 100000000}}\n",
    "valuation = pd.DataFrame(list(datos.find({\"$and\":[cond1, cond2]}, {\"name\":1,\"ipo\":1,\"_id\":0})))\n",
    "valuation.head()"
   ]
  },
  {
   "cell_type": "markdown",
   "metadata": {},
   "source": [
    "### 5. All the companies that have less than 1000 employees and have been founded before 2005. Order them by the number of employees and limit the search to 10 companies."
   ]
  },
  {
   "cell_type": "code",
   "execution_count": 174,
   "metadata": {},
   "outputs": [
    {
     "data": {
      "text/html": [
       "<div>\n",
       "<style scoped>\n",
       "    .dataframe tbody tr th:only-of-type {\n",
       "        vertical-align: middle;\n",
       "    }\n",
       "\n",
       "    .dataframe tbody tr th {\n",
       "        vertical-align: top;\n",
       "    }\n",
       "\n",
       "    .dataframe thead th {\n",
       "        text-align: right;\n",
       "    }\n",
       "</style>\n",
       "<table border=\"1\" class=\"dataframe\">\n",
       "  <thead>\n",
       "    <tr style=\"text-align: right;\">\n",
       "      <th></th>\n",
       "    </tr>\n",
       "  </thead>\n",
       "  <tbody>\n",
       "  </tbody>\n",
       "</table>\n",
       "</div>"
      ],
      "text/plain": [
       "Empty DataFrame\n",
       "Columns: []\n",
       "Index: []"
      ]
     },
     "execution_count": 174,
     "metadata": {},
     "output_type": "execute_result"
    }
   ],
   "source": [
    "cond3 = {\"number_of_employees\":{\"$lt\": 1000}}\n",
    "cond4 = {\"founded_year\":{\"$lt\": 2004}}\n",
    "employes = pd.DataFrame(list(datos.find({\"$and\":[cond3, cond4]}, {\"name\":1,\"_id\":0}).sort(\"number_of_employees\", -1)[:10]))\n",
    "employes.head()"
   ]
  },
  {
   "cell_type": "markdown",
   "metadata": {},
   "source": [
    "### 6. All the companies that don't include the `partners` field."
   ]
  },
  {
   "cell_type": "code",
   "execution_count": 175,
   "metadata": {},
   "outputs": [
    {
     "data": {
      "text/html": [
       "<div>\n",
       "<style scoped>\n",
       "    .dataframe tbody tr th:only-of-type {\n",
       "        vertical-align: middle;\n",
       "    }\n",
       "\n",
       "    .dataframe tbody tr th {\n",
       "        vertical-align: top;\n",
       "    }\n",
       "\n",
       "    .dataframe thead th {\n",
       "        text-align: right;\n",
       "    }\n",
       "</style>\n",
       "<table border=\"1\" class=\"dataframe\">\n",
       "  <thead>\n",
       "    <tr style=\"text-align: right;\">\n",
       "      <th></th>\n",
       "    </tr>\n",
       "  </thead>\n",
       "  <tbody>\n",
       "  </tbody>\n",
       "</table>\n",
       "</div>"
      ],
      "text/plain": [
       "Empty DataFrame\n",
       "Columns: []\n",
       "Index: []"
      ]
     },
     "execution_count": 175,
     "metadata": {},
     "output_type": "execute_result"
    }
   ],
   "source": [
    "partners = pd.DataFrame(list(datos.find({\"partners\": {'$exists': False}}, {\"name\":1,\"_id\":0})))\n",
    "partners.head()"
   ]
  },
  {
   "cell_type": "markdown",
   "metadata": {},
   "source": [
    "### 7. All the companies that have a null type of value on the `category_code` field."
   ]
  },
  {
   "cell_type": "code",
   "execution_count": 176,
   "metadata": {},
   "outputs": [
    {
     "data": {
      "text/html": [
       "<div>\n",
       "<style scoped>\n",
       "    .dataframe tbody tr th:only-of-type {\n",
       "        vertical-align: middle;\n",
       "    }\n",
       "\n",
       "    .dataframe tbody tr th {\n",
       "        vertical-align: top;\n",
       "    }\n",
       "\n",
       "    .dataframe thead th {\n",
       "        text-align: right;\n",
       "    }\n",
       "</style>\n",
       "<table border=\"1\" class=\"dataframe\">\n",
       "  <thead>\n",
       "    <tr style=\"text-align: right;\">\n",
       "      <th></th>\n",
       "    </tr>\n",
       "  </thead>\n",
       "  <tbody>\n",
       "  </tbody>\n",
       "</table>\n",
       "</div>"
      ],
      "text/plain": [
       "Empty DataFrame\n",
       "Columns: []\n",
       "Index: []"
      ]
     },
     "execution_count": 176,
     "metadata": {},
     "output_type": "execute_result"
    }
   ],
   "source": [
    "null = pd.DataFrame(list(datos.find({\"category_code\":{\"$type\":\"null\"}}, {\"name\":1,\"_id\":0})))\n",
    "null.head()"
   ]
  },
  {
   "cell_type": "markdown",
   "metadata": {},
   "source": [
    "### 8. All the companies that have at least 100 employees but less than 1000. Retrieve only the `name` and `number of employees` fields."
   ]
  },
  {
   "cell_type": "code",
   "execution_count": 177,
   "metadata": {},
   "outputs": [
    {
     "data": {
      "text/html": [
       "<div>\n",
       "<style scoped>\n",
       "    .dataframe tbody tr th:only-of-type {\n",
       "        vertical-align: middle;\n",
       "    }\n",
       "\n",
       "    .dataframe tbody tr th {\n",
       "        vertical-align: top;\n",
       "    }\n",
       "\n",
       "    .dataframe thead th {\n",
       "        text-align: right;\n",
       "    }\n",
       "</style>\n",
       "<table border=\"1\" class=\"dataframe\">\n",
       "  <thead>\n",
       "    <tr style=\"text-align: right;\">\n",
       "      <th></th>\n",
       "    </tr>\n",
       "  </thead>\n",
       "  <tbody>\n",
       "  </tbody>\n",
       "</table>\n",
       "</div>"
      ],
      "text/plain": [
       "Empty DataFrame\n",
       "Columns: []\n",
       "Index: []"
      ]
     },
     "execution_count": 177,
     "metadata": {},
     "output_type": "execute_result"
    }
   ],
   "source": [
    "condic5 = {\"number_of_employees\":{\"$gte\": 100}}\n",
    "condic6 = {\"number_of_employees\":{\"$lt\": 1000}}\n",
    "soluccion = pd.DataFrame(list(datos.find({\"$and\":[condic5, condic6]}, {\"name\":1,\"number_of_employees\":1 ,\"_id\":0})))\n",
    "soluccion.head()"
   ]
  },
  {
   "cell_type": "markdown",
   "metadata": {},
   "source": [
    "### 9. Order all the companies by their IPO price in a descending order."
   ]
  },
  {
   "cell_type": "code",
   "execution_count": 178,
   "metadata": {},
   "outputs": [
    {
     "data": {
      "text/html": [
       "<div>\n",
       "<style scoped>\n",
       "    .dataframe tbody tr th:only-of-type {\n",
       "        vertical-align: middle;\n",
       "    }\n",
       "\n",
       "    .dataframe tbody tr th {\n",
       "        vertical-align: top;\n",
       "    }\n",
       "\n",
       "    .dataframe thead th {\n",
       "        text-align: right;\n",
       "    }\n",
       "</style>\n",
       "<table border=\"1\" class=\"dataframe\">\n",
       "  <thead>\n",
       "    <tr style=\"text-align: right;\">\n",
       "      <th></th>\n",
       "    </tr>\n",
       "  </thead>\n",
       "  <tbody>\n",
       "  </tbody>\n",
       "</table>\n",
       "</div>"
      ],
      "text/plain": [
       "Empty DataFrame\n",
       "Columns: []\n",
       "Index: []"
      ]
     },
     "execution_count": 178,
     "metadata": {},
     "output_type": "execute_result"
    }
   ],
   "source": [
    "IPO = pd.DataFrame(list(datos.find((),{\"name\":1,\"_id\":0}).sort(\"ipo\", -1)))\n",
    "IPO.head()"
   ]
  },
  {
   "cell_type": "markdown",
   "metadata": {},
   "source": [
    "### 10. Retrieve the 10 companies with more employees, order by the `number of employees`"
   ]
  },
  {
   "cell_type": "code",
   "execution_count": 179,
   "metadata": {},
   "outputs": [
    {
     "data": {
      "text/html": [
       "<div>\n",
       "<style scoped>\n",
       "    .dataframe tbody tr th:only-of-type {\n",
       "        vertical-align: middle;\n",
       "    }\n",
       "\n",
       "    .dataframe tbody tr th {\n",
       "        vertical-align: top;\n",
       "    }\n",
       "\n",
       "    .dataframe thead th {\n",
       "        text-align: right;\n",
       "    }\n",
       "</style>\n",
       "<table border=\"1\" class=\"dataframe\">\n",
       "  <thead>\n",
       "    <tr style=\"text-align: right;\">\n",
       "      <th></th>\n",
       "    </tr>\n",
       "  </thead>\n",
       "  <tbody>\n",
       "  </tbody>\n",
       "</table>\n",
       "</div>"
      ],
      "text/plain": [
       "Empty DataFrame\n",
       "Columns: []\n",
       "Index: []"
      ]
     },
     "execution_count": 179,
     "metadata": {},
     "output_type": "execute_result"
    }
   ],
   "source": [
    "Maxemployees = pd.DataFrame(list(datos.find((),{\"name\":1,\"_id\":0}).sort(\"number_of_employees\", -1)[:10]))\n",
    "Maxemployees"
   ]
  },
  {
   "cell_type": "markdown",
   "metadata": {},
   "source": [
    "### 11. All the companies founded on the second semester of the year. Limit your search to 1000 companies."
   ]
  },
  {
   "cell_type": "code",
   "execution_count": 180,
   "metadata": {},
   "outputs": [
    {
     "data": {
      "text/html": [
       "<div>\n",
       "<style scoped>\n",
       "    .dataframe tbody tr th:only-of-type {\n",
       "        vertical-align: middle;\n",
       "    }\n",
       "\n",
       "    .dataframe tbody tr th {\n",
       "        vertical-align: top;\n",
       "    }\n",
       "\n",
       "    .dataframe thead th {\n",
       "        text-align: right;\n",
       "    }\n",
       "</style>\n",
       "<table border=\"1\" class=\"dataframe\">\n",
       "  <thead>\n",
       "    <tr style=\"text-align: right;\">\n",
       "      <th></th>\n",
       "    </tr>\n",
       "  </thead>\n",
       "  <tbody>\n",
       "  </tbody>\n",
       "</table>\n",
       "</div>"
      ],
      "text/plain": [
       "Empty DataFrame\n",
       "Columns: []\n",
       "Index: []"
      ]
     },
     "execution_count": 180,
     "metadata": {},
     "output_type": "execute_result"
    }
   ],
   "source": [
    "Foundedtime = pd.DataFrame(list(datos.find(({\"founded_month\":{\"$gt\":6}}),{\"name\":1,\"_id\":0}))[:1000])\n",
    "Foundedtime.head()"
   ]
  },
  {
   "cell_type": "markdown",
   "metadata": {},
   "source": [
    "### 12. All the companies founded before 2000 that have an acquisition amount of more than 10.000.00"
   ]
  },
  {
   "cell_type": "code",
   "execution_count": 181,
   "metadata": {},
   "outputs": [
    {
     "data": {
      "text/html": [
       "<div>\n",
       "<style scoped>\n",
       "    .dataframe tbody tr th:only-of-type {\n",
       "        vertical-align: middle;\n",
       "    }\n",
       "\n",
       "    .dataframe tbody tr th {\n",
       "        vertical-align: top;\n",
       "    }\n",
       "\n",
       "    .dataframe thead th {\n",
       "        text-align: right;\n",
       "    }\n",
       "</style>\n",
       "<table border=\"1\" class=\"dataframe\">\n",
       "  <thead>\n",
       "    <tr style=\"text-align: right;\">\n",
       "      <th></th>\n",
       "    </tr>\n",
       "  </thead>\n",
       "  <tbody>\n",
       "  </tbody>\n",
       "</table>\n",
       "</div>"
      ],
      "text/plain": [
       "Empty DataFrame\n",
       "Columns: []\n",
       "Index: []"
      ]
     },
     "execution_count": 181,
     "metadata": {},
     "output_type": "execute_result"
    }
   ],
   "source": [
    "condicc7 = {\"founded_year\":{\"$lt\": 2000}}\n",
    "condicc8 = {\"acquisition.price_amount\":{\"$gt\": 10000000}}\n",
    "companiesFounded = pd.DataFrame(list(datos.find({\"$and\":[condicc7, condicc8]}, {\"name\":1,\"_id\":0})))\n",
    "companiesFounded.head()"
   ]
  },
  {
   "cell_type": "markdown",
   "metadata": {},
   "source": [
    "### 13. All the companies that have been acquired after 2010, order by the acquisition amount, and retrieve only their `name` and `acquisition` field."
   ]
  },
  {
   "cell_type": "code",
   "execution_count": 182,
   "metadata": {},
   "outputs": [
    {
     "data": {
      "text/html": [
       "<div>\n",
       "<style scoped>\n",
       "    .dataframe tbody tr th:only-of-type {\n",
       "        vertical-align: middle;\n",
       "    }\n",
       "\n",
       "    .dataframe tbody tr th {\n",
       "        vertical-align: top;\n",
       "    }\n",
       "\n",
       "    .dataframe thead th {\n",
       "        text-align: right;\n",
       "    }\n",
       "</style>\n",
       "<table border=\"1\" class=\"dataframe\">\n",
       "  <thead>\n",
       "    <tr style=\"text-align: right;\">\n",
       "      <th></th>\n",
       "    </tr>\n",
       "  </thead>\n",
       "  <tbody>\n",
       "  </tbody>\n",
       "</table>\n",
       "</div>"
      ],
      "text/plain": [
       "Empty DataFrame\n",
       "Columns: []\n",
       "Index: []"
      ]
     },
     "execution_count": 182,
     "metadata": {},
     "output_type": "execute_result"
    }
   ],
   "source": [
    "Acquisition= pd.DataFrame(list(datos.find({\"acquisition.acquired_year\":{\"$gt\":2010}},\n",
    "               {\"name\":1,\"acquisition.price_amount\":1,\"_id\":0}).sort(\"acquisition.price_amount\",-1)))\n",
    "Acquisition.head()"
   ]
  },
  {
   "cell_type": "markdown",
   "metadata": {},
   "source": [
    "### 14. Order the companies by their `founded year`, retrieving only their `name` and `founded year`."
   ]
  },
  {
   "cell_type": "code",
   "execution_count": 183,
   "metadata": {},
   "outputs": [
    {
     "data": {
      "text/html": [
       "<div>\n",
       "<style scoped>\n",
       "    .dataframe tbody tr th:only-of-type {\n",
       "        vertical-align: middle;\n",
       "    }\n",
       "\n",
       "    .dataframe tbody tr th {\n",
       "        vertical-align: top;\n",
       "    }\n",
       "\n",
       "    .dataframe thead th {\n",
       "        text-align: right;\n",
       "    }\n",
       "</style>\n",
       "<table border=\"1\" class=\"dataframe\">\n",
       "  <thead>\n",
       "    <tr style=\"text-align: right;\">\n",
       "      <th></th>\n",
       "    </tr>\n",
       "  </thead>\n",
       "  <tbody>\n",
       "  </tbody>\n",
       "</table>\n",
       "</div>"
      ],
      "text/plain": [
       "Empty DataFrame\n",
       "Columns: []\n",
       "Index: []"
      ]
     },
     "execution_count": 183,
     "metadata": {},
     "output_type": "execute_result"
    }
   ],
   "source": [
    "YEARF = pd.DataFrame(list(datos.find((),{\"name\":1,\"founded_year\":1,\"_id\":0}).sort(\"founded_year\", -1)))\n",
    "YEARF.head()"
   ]
  },
  {
   "cell_type": "markdown",
   "metadata": {},
   "source": [
    "### 15. All the companies that have been founded on the first seven days of the month, including the seventh. Sort them by their `acquisition price` in a descending order. Limit the search to 10 documents."
   ]
  },
  {
   "cell_type": "code",
   "execution_count": 184,
   "metadata": {},
   "outputs": [
    {
     "data": {
      "text/html": [
       "<div>\n",
       "<style scoped>\n",
       "    .dataframe tbody tr th:only-of-type {\n",
       "        vertical-align: middle;\n",
       "    }\n",
       "\n",
       "    .dataframe tbody tr th {\n",
       "        vertical-align: top;\n",
       "    }\n",
       "\n",
       "    .dataframe thead th {\n",
       "        text-align: right;\n",
       "    }\n",
       "</style>\n",
       "<table border=\"1\" class=\"dataframe\">\n",
       "  <thead>\n",
       "    <tr style=\"text-align: right;\">\n",
       "      <th></th>\n",
       "    </tr>\n",
       "  </thead>\n",
       "  <tbody>\n",
       "  </tbody>\n",
       "</table>\n",
       "</div>"
      ],
      "text/plain": [
       "Empty DataFrame\n",
       "Columns: []\n",
       "Index: []"
      ]
     },
     "execution_count": 184,
     "metadata": {},
     "output_type": "execute_result"
    }
   ],
   "source": [
    "primerasemana = pd.DataFrame(list(datos.find((),{\"name\":1,\"founded_year\":1,\"_id\":0}).sort(\"founded_year\", -1)))\n",
    "primerasemana.head(10)"
   ]
  },
  {
   "cell_type": "markdown",
   "metadata": {},
   "source": [
    "### 16. All the companies on the 'web' `category` that have more than 4000 employees. Sort them by the amount of employees in ascending order."
   ]
  },
  {
   "cell_type": "code",
   "execution_count": 185,
   "metadata": {},
   "outputs": [
    {
     "data": {
      "text/html": [
       "<div>\n",
       "<style scoped>\n",
       "    .dataframe tbody tr th:only-of-type {\n",
       "        vertical-align: middle;\n",
       "    }\n",
       "\n",
       "    .dataframe tbody tr th {\n",
       "        vertical-align: top;\n",
       "    }\n",
       "\n",
       "    .dataframe thead th {\n",
       "        text-align: right;\n",
       "    }\n",
       "</style>\n",
       "<table border=\"1\" class=\"dataframe\">\n",
       "  <thead>\n",
       "    <tr style=\"text-align: right;\">\n",
       "      <th></th>\n",
       "    </tr>\n",
       "  </thead>\n",
       "  <tbody>\n",
       "  </tbody>\n",
       "</table>\n",
       "</div>"
      ],
      "text/plain": [
       "Empty DataFrame\n",
       "Columns: []\n",
       "Index: []"
      ]
     },
     "execution_count": 185,
     "metadata": {},
     "output_type": "execute_result"
    }
   ],
   "source": [
    "condicc9 = {\"number_of_employees\":{\"$gt\":4000}}\n",
    "condicc10 = {\"category_code\":\"web\"}\n",
    "Webcategory = pd.DataFrame(list(datos.find({\"$and\":[condicc9,condicc10]},{\"name\":1,\"_id\":0}).sort(\"number_of_employees\",-1)))\n",
    "Webcategory.head()"
   ]
  },
  {
   "cell_type": "markdown",
   "metadata": {},
   "source": [
    "### 17. All the companies whose acquisition amount is more than 10.000.000, and currency is 'EUR'."
   ]
  },
  {
   "cell_type": "code",
   "execution_count": 187,
   "metadata": {},
   "outputs": [
    {
     "data": {
      "text/html": [
       "<div>\n",
       "<style scoped>\n",
       "    .dataframe tbody tr th:only-of-type {\n",
       "        vertical-align: middle;\n",
       "    }\n",
       "\n",
       "    .dataframe tbody tr th {\n",
       "        vertical-align: top;\n",
       "    }\n",
       "\n",
       "    .dataframe thead th {\n",
       "        text-align: right;\n",
       "    }\n",
       "</style>\n",
       "<table border=\"1\" class=\"dataframe\">\n",
       "  <thead>\n",
       "    <tr style=\"text-align: right;\">\n",
       "      <th></th>\n",
       "    </tr>\n",
       "  </thead>\n",
       "  <tbody>\n",
       "  </tbody>\n",
       "</table>\n",
       "</div>"
      ],
      "text/plain": [
       "Empty DataFrame\n",
       "Columns: []\n",
       "Index: []"
      ]
     },
     "execution_count": 187,
     "metadata": {},
     "output_type": "execute_result"
    }
   ],
   "source": [
    "condicc11 = {\"acquisition.price_amount\":{\"$gt\":10000000}}\n",
    "condicc12 = {\"acquisition.price_currency_code\":\"EUR\"}\n",
    "EUROS = pd.DataFrame(list(datos.find({\"$and\":[condicc11,condicc12]},{\"name\":1,\"_id\":0})))\n",
    "EUROS"
   ]
  },
  {
   "cell_type": "markdown",
   "metadata": {},
   "source": [
    "### 18. All the companies that have been acquired on the first trimester of the year. Limit the search to 10 companies, and retrieve only their `name` and `acquisition` fields."
   ]
  },
  {
   "cell_type": "code",
   "execution_count": 188,
   "metadata": {},
   "outputs": [
    {
     "data": {
      "text/html": [
       "<div>\n",
       "<style scoped>\n",
       "    .dataframe tbody tr th:only-of-type {\n",
       "        vertical-align: middle;\n",
       "    }\n",
       "\n",
       "    .dataframe tbody tr th {\n",
       "        vertical-align: top;\n",
       "    }\n",
       "\n",
       "    .dataframe thead th {\n",
       "        text-align: right;\n",
       "    }\n",
       "</style>\n",
       "<table border=\"1\" class=\"dataframe\">\n",
       "  <thead>\n",
       "    <tr style=\"text-align: right;\">\n",
       "      <th></th>\n",
       "    </tr>\n",
       "  </thead>\n",
       "  <tbody>\n",
       "  </tbody>\n",
       "</table>\n",
       "</div>"
      ],
      "text/plain": [
       "Empty DataFrame\n",
       "Columns: []\n",
       "Index: []"
      ]
     },
     "execution_count": 188,
     "metadata": {},
     "output_type": "execute_result"
    }
   ],
   "source": [
    "Primertrimestre = pd.DataFrame(list(datos.find(({\"acquisition.acquired_month\":{\"$lte\":3}}),{\"name\":1,\"acquisition\":1,\"_id\":0}))[:10])\n",
    "Primertrimestre.head()"
   ]
  },
  {
   "cell_type": "markdown",
   "metadata": {},
   "source": [
    "# Bonus\n",
    "### 19. All the companies that have been founded between 2000 and 2010, but have not been acquired before 2011."
   ]
  },
  {
   "cell_type": "code",
   "execution_count": null,
   "metadata": {},
   "outputs": [],
   "source": [
    "# Your Code"
   ]
  },
  {
   "cell_type": "markdown",
   "metadata": {},
   "source": [
    "### 20. All the companies that have been 'deadpooled' after the third year."
   ]
  },
  {
   "cell_type": "code",
   "execution_count": null,
   "metadata": {},
   "outputs": [],
   "source": [
    "# Your Code"
   ]
  }
 ],
 "metadata": {
  "kernelspec": {
   "display_name": "Python 3 (ipykernel)",
   "language": "python",
   "name": "python3"
  },
  "language_info": {
   "codemirror_mode": {
    "name": "ipython",
    "version": 3
   },
   "file_extension": ".py",
   "mimetype": "text/x-python",
   "name": "python",
   "nbconvert_exporter": "python",
   "pygments_lexer": "ipython3",
   "version": "3.9.13"
  }
 },
 "nbformat": 4,
 "nbformat_minor": 2
}
