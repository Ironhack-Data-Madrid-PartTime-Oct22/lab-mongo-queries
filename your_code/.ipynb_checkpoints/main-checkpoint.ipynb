{
 "cells": [
  {
   "cell_type": "markdown",
   "metadata": {},
   "source": [
    "# Advanced Querying Mongo"
   ]
  },
  {
   "cell_type": "markdown",
   "metadata": {},
   "source": [
    "Importing libraries and setting up connection"
   ]
  },
  {
   "cell_type": "code",
   "execution_count": 1,
   "metadata": {},
   "outputs": [],
   "source": [
    "# from pymongo import MongoClient\n",
    "# client = MongoClient(\"\")"
   ]
  },
  {
   "cell_type": "code",
   "execution_count": 48,
   "metadata": {},
   "outputs": [],
   "source": [
    "import pandas as pd\n",
    "import pymongo\n",
    "from pymongo import MongoClient\n",
    "\n",
    "cliente = pymongo.MongoClient()"
   ]
  },
  {
   "cell_type": "code",
   "execution_count": 49,
   "metadata": {},
   "outputs": [],
   "source": [
    "pd.options.display.max_columns = None"
   ]
  },
  {
   "cell_type": "code",
   "execution_count": 62,
   "metadata": {},
   "outputs": [],
   "source": [
    "Mydb = cliente[\"Mongo\"]\n",
    "coleccion = Mydb.companies"
   ]
  },
  {
   "cell_type": "code",
   "execution_count": 63,
   "metadata": {
    "scrolled": true
   },
   "outputs": [
    {
     "data": {
      "text/html": [
       "<div>\n",
       "<style scoped>\n",
       "    .dataframe tbody tr th:only-of-type {\n",
       "        vertical-align: middle;\n",
       "    }\n",
       "\n",
       "    .dataframe tbody tr th {\n",
       "        vertical-align: top;\n",
       "    }\n",
       "\n",
       "    .dataframe thead th {\n",
       "        text-align: right;\n",
       "    }\n",
       "</style>\n",
       "<table border=\"1\" class=\"dataframe\">\n",
       "  <thead>\n",
       "    <tr style=\"text-align: right;\">\n",
       "      <th></th>\n",
       "      <th>_id</th>\n",
       "      <th>name</th>\n",
       "      <th>permalink</th>\n",
       "      <th>crunchbase_url</th>\n",
       "      <th>homepage_url</th>\n",
       "      <th>blog_url</th>\n",
       "      <th>blog_feed_url</th>\n",
       "      <th>twitter_username</th>\n",
       "      <th>category_code</th>\n",
       "      <th>number_of_employees</th>\n",
       "      <th>founded_year</th>\n",
       "      <th>founded_month</th>\n",
       "      <th>founded_day</th>\n",
       "      <th>deadpooled_year</th>\n",
       "      <th>tag_list</th>\n",
       "      <th>alias_list</th>\n",
       "      <th>email_address</th>\n",
       "      <th>phone_number</th>\n",
       "      <th>description</th>\n",
       "      <th>created_at</th>\n",
       "      <th>updated_at</th>\n",
       "      <th>overview</th>\n",
       "      <th>image</th>\n",
       "      <th>products</th>\n",
       "      <th>relationships</th>\n",
       "      <th>competitions</th>\n",
       "      <th>providerships</th>\n",
       "      <th>total_money_raised</th>\n",
       "      <th>funding_rounds</th>\n",
       "      <th>investments</th>\n",
       "      <th>acquisition</th>\n",
       "      <th>acquisitions</th>\n",
       "      <th>offices</th>\n",
       "      <th>milestones</th>\n",
       "      <th>video_embeds</th>\n",
       "      <th>screenshots</th>\n",
       "      <th>external_links</th>\n",
       "      <th>partners</th>\n",
       "      <th>deadpooled_month</th>\n",
       "      <th>deadpooled_day</th>\n",
       "      <th>deadpooled_url</th>\n",
       "      <th>ipo</th>\n",
       "    </tr>\n",
       "  </thead>\n",
       "  <tbody>\n",
       "    <tr>\n",
       "      <th>0</th>\n",
       "      <td>{'$oid': '52cdef7c4bab8bd675297d8a'}</td>\n",
       "      <td>Wetpaint</td>\n",
       "      <td>abc2</td>\n",
       "      <td>http://www.crunchbase.com/company/wetpaint</td>\n",
       "      <td>http://wetpaint-inc.com</td>\n",
       "      <td>http://digitalquarters.net/</td>\n",
       "      <td>http://digitalquarters.net/feed/</td>\n",
       "      <td>BachelrWetpaint</td>\n",
       "      <td>web</td>\n",
       "      <td>47.0</td>\n",
       "      <td>2005.0</td>\n",
       "      <td>10.0</td>\n",
       "      <td>17.0</td>\n",
       "      <td>1.0</td>\n",
       "      <td>wiki, seattle, elowitz, media-industry, media-...</td>\n",
       "      <td></td>\n",
       "      <td>info@wetpaint.com</td>\n",
       "      <td>206.859.6300</td>\n",
       "      <td>Technology Platform Company</td>\n",
       "      <td>{'$date': 1180075887000}</td>\n",
       "      <td>2013-12-08 07:15:44+00:00</td>\n",
       "      <td>&lt;p&gt;Wetpaint is a technology platform company t...</td>\n",
       "      <td>{'available_sizes': [[[150, 75], 'assets/image...</td>\n",
       "      <td>[{'name': 'Wikison Wetpaint', 'permalink': 'we...</td>\n",
       "      <td>[{'is_past': False, 'title': 'Co-Founder and V...</td>\n",
       "      <td>[{'competitor': {'name': 'Wikia', 'permalink':...</td>\n",
       "      <td>[]</td>\n",
       "      <td>$39.8M</td>\n",
       "      <td>[{'id': 888, 'round_code': 'a', 'source_url': ...</td>\n",
       "      <td>[]</td>\n",
       "      <td>{'price_amount': 30000000, 'price_currency_cod...</td>\n",
       "      <td>[]</td>\n",
       "      <td>[{'description': '', 'address1': '710 - 2nd Av...</td>\n",
       "      <td>[{'id': 5869, 'description': 'Wetpaint named i...</td>\n",
       "      <td>[]</td>\n",
       "      <td>[{'available_sizes': [[[150, 86], 'assets/imag...</td>\n",
       "      <td>[{'external_url': 'http://www.geekwire.com/201...</td>\n",
       "      <td>[]</td>\n",
       "      <td>NaN</td>\n",
       "      <td>NaN</td>\n",
       "      <td>NaN</td>\n",
       "      <td>NaN</td>\n",
       "    </tr>\n",
       "    <tr>\n",
       "      <th>1</th>\n",
       "      <td>{'$oid': '52cdef7c4bab8bd675297d8b'}</td>\n",
       "      <td>AdventNet</td>\n",
       "      <td>abc3</td>\n",
       "      <td>http://www.crunchbase.com/company/adventnet</td>\n",
       "      <td>http://adventnet.com</td>\n",
       "      <td></td>\n",
       "      <td></td>\n",
       "      <td>manageengine</td>\n",
       "      <td>enterprise</td>\n",
       "      <td>600.0</td>\n",
       "      <td>1996.0</td>\n",
       "      <td>NaN</td>\n",
       "      <td>NaN</td>\n",
       "      <td>2.0</td>\n",
       "      <td></td>\n",
       "      <td>Zoho ManageEngine</td>\n",
       "      <td>pr@adventnet.com</td>\n",
       "      <td>925-924-9500</td>\n",
       "      <td>Server Management Software</td>\n",
       "      <td>{'$date': 1180121062000}</td>\n",
       "      <td>2012-10-31 18:26:09+00:00</td>\n",
       "      <td>&lt;p&gt;AdventNet is now &lt;a href=\"/company/zoho-man...</td>\n",
       "      <td>{'available_sizes': [[[150, 55], 'assets/image...</td>\n",
       "      <td>[]</td>\n",
       "      <td>[{'is_past': True, 'title': 'CEO and Co-Founde...</td>\n",
       "      <td>[]</td>\n",
       "      <td>[{'title': 'DHFH', 'is_past': True, 'provider'...</td>\n",
       "      <td>$0</td>\n",
       "      <td>[]</td>\n",
       "      <td>[]</td>\n",
       "      <td>None</td>\n",
       "      <td>[]</td>\n",
       "      <td>[{'description': 'Headquarters', 'address1': '...</td>\n",
       "      <td>[]</td>\n",
       "      <td>[]</td>\n",
       "      <td>[{'available_sizes': [[[150, 94], 'assets/imag...</td>\n",
       "      <td>[]</td>\n",
       "      <td>[]</td>\n",
       "      <td>NaN</td>\n",
       "      <td>NaN</td>\n",
       "      <td>NaN</td>\n",
       "      <td>NaN</td>\n",
       "    </tr>\n",
       "    <tr>\n",
       "      <th>2</th>\n",
       "      <td>{'$oid': '52cdef7c4bab8bd675297d8c'}</td>\n",
       "      <td>Zoho</td>\n",
       "      <td>abc4</td>\n",
       "      <td>http://www.crunchbase.com/company/zoho</td>\n",
       "      <td>http://zoho.com</td>\n",
       "      <td>http://blogs.zoho.com/</td>\n",
       "      <td>http://blogs.zoho.com/feed</td>\n",
       "      <td>zoho</td>\n",
       "      <td>software</td>\n",
       "      <td>1600.0</td>\n",
       "      <td>2005.0</td>\n",
       "      <td>9.0</td>\n",
       "      <td>15.0</td>\n",
       "      <td>3.0</td>\n",
       "      <td>zoho, officesuite, spreadsheet, writer, projec...</td>\n",
       "      <td></td>\n",
       "      <td>info@zohocorp.com</td>\n",
       "      <td>1-888-204-3539</td>\n",
       "      <td>Online Business Apps Suite</td>\n",
       "      <td>Fri May 25 19:30:28 UTC 2007</td>\n",
       "      <td>2013-10-30 00:07:05+00:00</td>\n",
       "      <td>&lt;p&gt;Zoho offers a suite of Business, Collaborat...</td>\n",
       "      <td>{'available_sizes': [[[150, 55], 'assets/image...</td>\n",
       "      <td>[{'name': 'Zoho Office Suite', 'permalink': 'z...</td>\n",
       "      <td>[{'is_past': False, 'title': 'CEO and Founder'...</td>\n",
       "      <td>[{'competitor': {'name': 'Empressr', 'permalin...</td>\n",
       "      <td>[]</td>\n",
       "      <td>$0</td>\n",
       "      <td>[]</td>\n",
       "      <td>[]</td>\n",
       "      <td>None</td>\n",
       "      <td>[]</td>\n",
       "      <td>[{'description': 'Headquarters', 'address1': '...</td>\n",
       "      <td>[{'id': 388, 'description': 'Zoho Reaches 2 Mi...</td>\n",
       "      <td>[{'embed_code': '&lt;object width=\"430\" height=\"2...</td>\n",
       "      <td>[]</td>\n",
       "      <td>[{'external_url': 'http://www.online-tech-tips...</td>\n",
       "      <td>[]</td>\n",
       "      <td>NaN</td>\n",
       "      <td>NaN</td>\n",
       "      <td>NaN</td>\n",
       "      <td>NaN</td>\n",
       "    </tr>\n",
       "  </tbody>\n",
       "</table>\n",
       "</div>"
      ],
      "text/plain": [
       "                                    _id       name permalink  \\\n",
       "0  {'$oid': '52cdef7c4bab8bd675297d8a'}   Wetpaint      abc2   \n",
       "1  {'$oid': '52cdef7c4bab8bd675297d8b'}  AdventNet      abc3   \n",
       "2  {'$oid': '52cdef7c4bab8bd675297d8c'}       Zoho      abc4   \n",
       "\n",
       "                                crunchbase_url             homepage_url  \\\n",
       "0   http://www.crunchbase.com/company/wetpaint  http://wetpaint-inc.com   \n",
       "1  http://www.crunchbase.com/company/adventnet     http://adventnet.com   \n",
       "2       http://www.crunchbase.com/company/zoho          http://zoho.com   \n",
       "\n",
       "                      blog_url                     blog_feed_url  \\\n",
       "0  http://digitalquarters.net/  http://digitalquarters.net/feed/   \n",
       "1                                                                  \n",
       "2       http://blogs.zoho.com/        http://blogs.zoho.com/feed   \n",
       "\n",
       "  twitter_username category_code  number_of_employees  founded_year  \\\n",
       "0  BachelrWetpaint           web                 47.0        2005.0   \n",
       "1     manageengine    enterprise                600.0        1996.0   \n",
       "2             zoho      software               1600.0        2005.0   \n",
       "\n",
       "   founded_month  founded_day  deadpooled_year  \\\n",
       "0           10.0         17.0              1.0   \n",
       "1            NaN          NaN              2.0   \n",
       "2            9.0         15.0              3.0   \n",
       "\n",
       "                                            tag_list          alias_list  \\\n",
       "0  wiki, seattle, elowitz, media-industry, media-...                       \n",
       "1                                                     Zoho ManageEngine    \n",
       "2  zoho, officesuite, spreadsheet, writer, projec...                       \n",
       "\n",
       "       email_address    phone_number                  description  \\\n",
       "0  info@wetpaint.com    206.859.6300  Technology Platform Company   \n",
       "1   pr@adventnet.com    925-924-9500   Server Management Software   \n",
       "2  info@zohocorp.com  1-888-204-3539   Online Business Apps Suite   \n",
       "\n",
       "                     created_at                updated_at  \\\n",
       "0      {'$date': 1180075887000} 2013-12-08 07:15:44+00:00   \n",
       "1      {'$date': 1180121062000} 2012-10-31 18:26:09+00:00   \n",
       "2  Fri May 25 19:30:28 UTC 2007 2013-10-30 00:07:05+00:00   \n",
       "\n",
       "                                            overview  \\\n",
       "0  <p>Wetpaint is a technology platform company t...   \n",
       "1  <p>AdventNet is now <a href=\"/company/zoho-man...   \n",
       "2  <p>Zoho offers a suite of Business, Collaborat...   \n",
       "\n",
       "                                               image  \\\n",
       "0  {'available_sizes': [[[150, 75], 'assets/image...   \n",
       "1  {'available_sizes': [[[150, 55], 'assets/image...   \n",
       "2  {'available_sizes': [[[150, 55], 'assets/image...   \n",
       "\n",
       "                                            products  \\\n",
       "0  [{'name': 'Wikison Wetpaint', 'permalink': 'we...   \n",
       "1                                                 []   \n",
       "2  [{'name': 'Zoho Office Suite', 'permalink': 'z...   \n",
       "\n",
       "                                       relationships  \\\n",
       "0  [{'is_past': False, 'title': 'Co-Founder and V...   \n",
       "1  [{'is_past': True, 'title': 'CEO and Co-Founde...   \n",
       "2  [{'is_past': False, 'title': 'CEO and Founder'...   \n",
       "\n",
       "                                        competitions  \\\n",
       "0  [{'competitor': {'name': 'Wikia', 'permalink':...   \n",
       "1                                                 []   \n",
       "2  [{'competitor': {'name': 'Empressr', 'permalin...   \n",
       "\n",
       "                                       providerships total_money_raised  \\\n",
       "0                                                 []             $39.8M   \n",
       "1  [{'title': 'DHFH', 'is_past': True, 'provider'...                 $0   \n",
       "2                                                 []                 $0   \n",
       "\n",
       "                                      funding_rounds investments  \\\n",
       "0  [{'id': 888, 'round_code': 'a', 'source_url': ...          []   \n",
       "1                                                 []          []   \n",
       "2                                                 []          []   \n",
       "\n",
       "                                         acquisition acquisitions  \\\n",
       "0  {'price_amount': 30000000, 'price_currency_cod...           []   \n",
       "1                                               None           []   \n",
       "2                                               None           []   \n",
       "\n",
       "                                             offices  \\\n",
       "0  [{'description': '', 'address1': '710 - 2nd Av...   \n",
       "1  [{'description': 'Headquarters', 'address1': '...   \n",
       "2  [{'description': 'Headquarters', 'address1': '...   \n",
       "\n",
       "                                          milestones  \\\n",
       "0  [{'id': 5869, 'description': 'Wetpaint named i...   \n",
       "1                                                 []   \n",
       "2  [{'id': 388, 'description': 'Zoho Reaches 2 Mi...   \n",
       "\n",
       "                                        video_embeds  \\\n",
       "0                                                 []   \n",
       "1                                                 []   \n",
       "2  [{'embed_code': '<object width=\"430\" height=\"2...   \n",
       "\n",
       "                                         screenshots  \\\n",
       "0  [{'available_sizes': [[[150, 86], 'assets/imag...   \n",
       "1  [{'available_sizes': [[[150, 94], 'assets/imag...   \n",
       "2                                                 []   \n",
       "\n",
       "                                      external_links partners  \\\n",
       "0  [{'external_url': 'http://www.geekwire.com/201...       []   \n",
       "1                                                 []       []   \n",
       "2  [{'external_url': 'http://www.online-tech-tips...       []   \n",
       "\n",
       "   deadpooled_month  deadpooled_day deadpooled_url  ipo  \n",
       "0               NaN             NaN            NaN  NaN  \n",
       "1               NaN             NaN            NaN  NaN  \n",
       "2               NaN             NaN            NaN  NaN  "
      ]
     },
     "execution_count": 63,
     "metadata": {},
     "output_type": "execute_result"
    }
   ],
   "source": [
    "df_jason = pd.read_json(\"../companies.json\", lines = True)\n",
    "df_jason.head(3)"
   ]
  },
  {
   "cell_type": "code",
   "execution_count": 78,
   "metadata": {},
   "outputs": [
    {
     "data": {
      "text/plain": [
       "Index(['_id', 'name', 'permalink', 'crunchbase_url', 'homepage_url',\n",
       "       'blog_url', 'blog_feed_url', 'twitter_username', 'category_code',\n",
       "       'number_of_employees', 'founded_year', 'founded_month', 'founded_day',\n",
       "       'deadpooled_year', 'tag_list', 'alias_list', 'email_address',\n",
       "       'phone_number', 'description', 'created_at', 'updated_at', 'overview',\n",
       "       'image', 'products', 'relationships', 'competitions', 'providerships',\n",
       "       'total_money_raised', 'funding_rounds', 'investments', 'acquisition',\n",
       "       'acquisitions', 'offices', 'milestones', 'video_embeds', 'screenshots',\n",
       "       'external_links', 'partners', 'deadpooled_month', 'deadpooled_day',\n",
       "       'deadpooled_url', 'ipo'],\n",
       "      dtype='object')"
      ]
     },
     "execution_count": 78,
     "metadata": {},
     "output_type": "execute_result"
    }
   ],
   "source": [
    "df_jason.columns"
   ]
  },
  {
   "cell_type": "markdown",
   "metadata": {},
   "source": [
    "### 1. All the companies whose name match 'Babelgum'. Retrieve only their `name` field."
   ]
  },
  {
   "cell_type": "code",
   "execution_count": 64,
   "metadata": {},
   "outputs": [
    {
     "data": {
      "text/plain": [
       "[]"
      ]
     },
     "execution_count": 64,
     "metadata": {},
     "output_type": "execute_result"
    }
   ],
   "source": [
    "# Your Code\n",
    "Babelgum = list(coleccion.find({\"name\" : \"Babelgum\"}))\n",
    "Babelgum[:1]"
   ]
  },
  {
   "cell_type": "markdown",
   "metadata": {},
   "source": [
    "### 2. All the companies that have more than 5000 employees. Limit the search to 20 companies and sort them by **number of employees**."
   ]
  },
  {
   "cell_type": "code",
   "execution_count": 65,
   "metadata": {},
   "outputs": [
    {
     "data": {
      "text/plain": [
       "[]"
      ]
     },
     "execution_count": 65,
     "metadata": {},
     "output_type": "execute_result"
    }
   ],
   "source": [
    "# Your Code\n",
    "list((coleccion.find({'cod_categor': {\"$gt\": 5000}} )).limit(20))"
   ]
  },
  {
   "cell_type": "markdown",
   "metadata": {},
   "source": [
    "### 3. All the companies founded between 2000 and 2005, both years included. Retrieve only the `name` and `founded_year` fields."
   ]
  },
  {
   "cell_type": "code",
   "execution_count": 66,
   "metadata": {},
   "outputs": [
    {
     "data": {
      "text/plain": [
       "[]"
      ]
     },
     "execution_count": 66,
     "metadata": {},
     "output_type": "execute_result"
    }
   ],
   "source": [
    "# Your Code\n",
    "list(coleccion.find({\"founded_year\" : {\"$in\" : [2000, 2001, 2002, 2003, 2004, 2005]}}))"
   ]
  },
  {
   "cell_type": "markdown",
   "metadata": {},
   "source": [
    "### 4. All the companies that had a Valuation Amount of more than 100.000.000 and have been founded before 2010. Retrieve only the `name` and `ipo` fields."
   ]
  },
  {
   "cell_type": "code",
   "execution_count": 77,
   "metadata": {},
   "outputs": [
    {
     "data": {
      "text/plain": [
       "[]"
      ]
     },
     "execution_count": 77,
     "metadata": {},
     "output_type": "execute_result"
    }
   ],
   "source": [
    "# Your Code\n",
    "cond1 = {\"founded_year\": {\"$lt\": 2010}}\n",
    "cond2 = {\"ipo.valuation_amount\": {\"$gt\": 100000000}}\n",
    "\n",
    "list(coleccion.find({\"$and\": [cond1, cond2]}, {\"etiqueta\":1,\"_id\":0,\"name\":1,\"ipo\":1}))[0:2]"
   ]
  },
  {
   "cell_type": "markdown",
   "metadata": {},
   "source": [
    "### 5. All the companies that have less than 1000 employees and have been founded before 2005. Order them by the number of employees and limit the search to 10 companies."
   ]
  },
  {
   "cell_type": "code",
   "execution_count": 82,
   "metadata": {},
   "outputs": [
    {
     "data": {
      "text/plain": [
       "[]"
      ]
     },
     "execution_count": 82,
     "metadata": {},
     "output_type": "execute_result"
    }
   ],
   "source": [
    "# Your Code\n",
    "cond_1 = {\"founded_year\": {\"$lt\": 2005}}\n",
    "cond_2 = {\"number_of_employees\": {\"$lt\": 1000}}\n",
    "\n",
    "list(coleccion.find({\"$and\": [cond_1, cond_2]}, {\"etiqueta\":1,\"_id\":0,\"founded_year\":1,\"number_of_employees\":1}))[0:2]"
   ]
  },
  {
   "cell_type": "markdown",
   "metadata": {},
   "source": [
    "### 6. All the companies that don't include the `partners` field."
   ]
  },
  {
   "cell_type": "code",
   "execution_count": 83,
   "metadata": {},
   "outputs": [
    {
     "data": {
      "text/plain": [
       "[]"
      ]
     },
     "execution_count": 83,
     "metadata": {},
     "output_type": "execute_result"
    }
   ],
   "source": [
    "# Your Code\n",
    "list(coleccion.find({\"partners\": {'$exists': True}}))"
   ]
  },
  {
   "cell_type": "markdown",
   "metadata": {},
   "source": [
    "### 7. All the companies that have a null type of value on the `category_code` field."
   ]
  },
  {
   "cell_type": "code",
   "execution_count": 84,
   "metadata": {},
   "outputs": [
    {
     "data": {
      "text/plain": [
       "[]"
      ]
     },
     "execution_count": 84,
     "metadata": {},
     "output_type": "execute_result"
    }
   ],
   "source": [
    "# Your Code\n",
    "list(coleccion.find({\"category_code\": {\"$type\": \"null\"}}))"
   ]
  },
  {
   "cell_type": "markdown",
   "metadata": {},
   "source": [
    "### 8. All the companies that have at least 100 employees but less than 1000. Retrieve only the `name` and `number of employees` fields."
   ]
  },
  {
   "cell_type": "code",
   "execution_count": 85,
   "metadata": {},
   "outputs": [
    {
     "data": {
      "text/plain": [
       "[]"
      ]
     },
     "execution_count": 85,
     "metadata": {},
     "output_type": "execute_result"
    }
   ],
   "source": [
    "# Your Code\n",
    "condicion1 = {\"number_of_employees\": {\"$gte\": 100}}\n",
    "condicion2 = {\"number_of_employees\": {\"$lt\": 1000}}\n",
    "\n",
    "list(coleccion.find({\"$and\": [condicion1, condicion2]}, {\"etiqueta\":1,\"_id\":0,\"name\":1,\"number_of_employees\":1}))[0:3]"
   ]
  },
  {
   "cell_type": "markdown",
   "metadata": {},
   "source": [
    "### 9. Order all the companies by their IPO price in a descending order."
   ]
  },
  {
   "cell_type": "code",
   "execution_count": 89,
   "metadata": {},
   "outputs": [
    {
     "data": {
      "text/plain": [
       "[]"
      ]
     },
     "execution_count": 89,
     "metadata": {},
     "output_type": "execute_result"
    }
   ],
   "source": [
    "# Your Code\n",
    "list((coleccion.find().sort(\"ipo.price\")).limit(10))"
   ]
  },
  {
   "cell_type": "markdown",
   "metadata": {},
   "source": [
    "### 10. Retrieve the 10 companies with more employees, order by the `number of employees`"
   ]
  },
  {
   "cell_type": "code",
   "execution_count": 91,
   "metadata": {},
   "outputs": [
    {
     "data": {
      "text/plain": [
       "[]"
      ]
     },
     "execution_count": 91,
     "metadata": {},
     "output_type": "execute_result"
    }
   ],
   "source": [
    "# Your Code\n",
    "list(coleccion.find((),{\"name\":1,\"_id\":0}).sort(\"number_of_employees\").limit(10))"
   ]
  },
  {
   "cell_type": "markdown",
   "metadata": {},
   "source": [
    "### 11. All the companies founded on the second semester of the year. Limit your search to 1000 companies."
   ]
  },
  {
   "cell_type": "code",
   "execution_count": 92,
   "metadata": {},
   "outputs": [
    {
     "data": {
      "text/plain": [
       "[]"
      ]
     },
     "execution_count": 92,
     "metadata": {},
     "output_type": "execute_result"
    }
   ],
   "source": [
    "# Your Code\n",
    "list(coleccion.find({\"founded_month\":{\"$gte\":6}},{\"name\":1,\"_id\":0}).limit(1000))"
   ]
  },
  {
   "cell_type": "markdown",
   "metadata": {},
   "source": [
    "### 12. All the companies founded before 2000 that have an acquisition amount of more than 10.000.00"
   ]
  },
  {
   "cell_type": "code",
   "execution_count": 93,
   "metadata": {},
   "outputs": [
    {
     "data": {
      "text/plain": [
       "[]"
      ]
     },
     "execution_count": 93,
     "metadata": {},
     "output_type": "execute_result"
    }
   ],
   "source": [
    "# Your Code\n",
    "con1 = {\"founded_year\":{\"$lt\":2000}}\n",
    "con2 = {\"acquisition.price_amount\":{\"$gt\":1000000}}\n",
    "list(coleccion.find({\"$and\":[con1,con2]},{\"name\":1,\"_id\":0}).limit(5))"
   ]
  },
  {
   "cell_type": "markdown",
   "metadata": {},
   "source": [
    "### 13. All the companies that have been acquired after 2010, order by the acquisition amount, and retrieve only their `name` and `acquisition` field."
   ]
  },
  {
   "cell_type": "code",
   "execution_count": 95,
   "metadata": {},
   "outputs": [
    {
     "data": {
      "text/plain": [
       "[]"
      ]
     },
     "execution_count": 95,
     "metadata": {},
     "output_type": "execute_result"
    }
   ],
   "source": [
    "# Your Code\n",
    "list(coleccion.find({\"acquisition.acquired_year\":{\"$gt\":2010}},\n",
    "              {\"name\":1,\"acquisition.price_amount\":1,\"_id\":0}).sort(\"acquisition.price_amount\",-1).limit(5))"
   ]
  },
  {
   "cell_type": "markdown",
   "metadata": {},
   "source": [
    "### 14. Order the companies by their `founded year`, retrieving only their `name` and `founded year`."
   ]
  },
  {
   "cell_type": "code",
   "execution_count": 97,
   "metadata": {},
   "outputs": [
    {
     "data": {
      "text/plain": [
       "[]"
      ]
     },
     "execution_count": 97,
     "metadata": {},
     "output_type": "execute_result"
    }
   ],
   "source": [
    "# Your Code\n",
    "list(coleccion.find((),{\"founded_year\":1,\"name\":1,\"_id\":0}).sort(\"founded_year\",-1).limit(10))"
   ]
  },
  {
   "cell_type": "markdown",
   "metadata": {},
   "source": [
    "### 15. All the companies that have been founded on the first seven days of the month, including the seventh. Sort them by their `acquisition price` in a descending order. Limit the search to 10 documents."
   ]
  },
  {
   "cell_type": "code",
   "execution_count": 98,
   "metadata": {},
   "outputs": [
    {
     "data": {
      "text/plain": [
       "[]"
      ]
     },
     "execution_count": 98,
     "metadata": {},
     "output_type": "execute_result"
    }
   ],
   "source": [
    "# Your Code\n",
    "list(coleccion.find({\"founded_day\":{\"$lte\":7}},\n",
    "              {\"name\":1,\"acquisition.price_amount\":1,\"_id\":0}).sort(\"acquisition.price_amount\",-1).limit(10))\n"
   ]
  },
  {
   "cell_type": "markdown",
   "metadata": {},
   "source": [
    "### 16. All the companies on the 'web' `category` that have more than 4000 employees. Sort them by the amount of employees in ascending order."
   ]
  },
  {
   "cell_type": "code",
   "execution_count": 101,
   "metadata": {},
   "outputs": [
    {
     "data": {
      "text/plain": [
       "[]"
      ]
     },
     "execution_count": 101,
     "metadata": {},
     "output_type": "execute_result"
    }
   ],
   "source": [
    "# Your Code\n",
    "condition1 = {\"category_code\":\"web\"}\n",
    "condition2 = {\"number_of_employees\":{\"$gt\":4000}}\n",
    "\n",
    "list(coleccion.find({\"$and\":[condition1,condition2]},\n",
    "              {\"name\":1,\"number_of_employees\":1,\"_id\":0}).sort(\"number_of_employees\",-1).limit(10))"
   ]
  },
  {
   "cell_type": "markdown",
   "metadata": {},
   "source": [
    "### 17. All the companies whose acquisition amount is more than 10.000.000, and currency is 'EUR'."
   ]
  },
  {
   "cell_type": "code",
   "execution_count": 102,
   "metadata": {},
   "outputs": [
    {
     "data": {
      "text/plain": [
       "[]"
      ]
     },
     "execution_count": 102,
     "metadata": {},
     "output_type": "execute_result"
    }
   ],
   "source": [
    "# Your Code\n",
    "condit1 = {\"acquisition.price_amount\":{\"$gt\":10000000}}\n",
    "condit2 = {\"acquisition.price_currency_code\":\"EUR\"}\n",
    "list(coleccion.find({\"$and\":[condit1,condit2]},\n",
    "              {\"name\":1,\"acquisition.price_amount\":1,\"acquisition.price_currency_code\":1,\"_id\":0}).sort(\"acquisition.price_amount\",-1).limit(10))\n"
   ]
  },
  {
   "cell_type": "markdown",
   "metadata": {},
   "source": [
    "### 18. All the companies that have been acquired on the first trimester of the year. Limit the search to 10 companies, and retrieve only their `name` and `acquisition` fields."
   ]
  },
  {
   "cell_type": "code",
   "execution_count": 104,
   "metadata": {},
   "outputs": [
    {
     "data": {
      "text/plain": [
       "[]"
      ]
     },
     "execution_count": 104,
     "metadata": {},
     "output_type": "execute_result"
    }
   ],
   "source": [
    "# Your Code\n",
    "list(coleccion.find({\"acquisition.acquired_month\":{\"$lte\":3}},{\"name\":1,\"acquisition\":1,\"_id\":0}).limit(10))"
   ]
  },
  {
   "cell_type": "markdown",
   "metadata": {},
   "source": [
    "# Bonus\n",
    "### 19. All the companies that have been founded between 2000 and 2010, but have not been acquired before 2011."
   ]
  },
  {
   "cell_type": "code",
   "execution_count": null,
   "metadata": {},
   "outputs": [],
   "source": [
    "# Your Code"
   ]
  },
  {
   "cell_type": "markdown",
   "metadata": {},
   "source": [
    "### 20. All the companies that have been 'deadpooled' after the third year."
   ]
  },
  {
   "cell_type": "code",
   "execution_count": null,
   "metadata": {},
   "outputs": [],
   "source": [
    "# Your Code"
   ]
  }
 ],
 "metadata": {
  "kernelspec": {
   "display_name": "Python 3 (ipykernel)",
   "language": "python",
   "name": "python3"
  },
  "language_info": {
   "codemirror_mode": {
    "name": "ipython",
    "version": 3
   },
   "file_extension": ".py",
   "mimetype": "text/x-python",
   "name": "python",
   "nbconvert_exporter": "python",
   "pygments_lexer": "ipython3",
   "version": "3.9.13"
  }
 },
 "nbformat": 4,
 "nbformat_minor": 2
}
